{
 "cells": [
  {
   "cell_type": "code",
   "execution_count": 1,
   "id": "612e8719",
   "metadata": {},
   "outputs": [],
   "source": [
    "# 리스트는 C언어의 배열과 유사하고 JAVA의 List 인터페이스 List 인터페이스를 구현받아 작성된 ArrayList와 똑같다.\n",
    "# 리스트를 만들때는 데이터를 []로 감싸고 각각의 데이터는 ','로 구분한다."
   ]
  },
  {
   "cell_type": "code",
   "execution_count": 4,
   "id": "a32106dd",
   "metadata": {},
   "outputs": [
    {
     "name": "stdout",
     "output_type": "stream",
     "text": [
      "[]\n",
      "<class 'list'>\n",
      "[]\n",
      "<class 'list'>\n"
     ]
    }
   ],
   "source": [
    "# 빈 리스트 만들기\n",
    "a = []\n",
    "print(a)\n",
    "print(type(a))\n",
    "# 빈 리스트는 생성자 함수를 이용해서도 만들수 있다.\n",
    "b = list()\n",
    "print(b)\n",
    "print(type(b))"
   ]
  },
  {
   "cell_type": "code",
   "execution_count": 9,
   "id": "b0649857",
   "metadata": {},
   "outputs": [
    {
     "name": "stdout",
     "output_type": "stream",
     "text": [
      "[1, 2, 3]\n",
      "<class 'list'>\n",
      "['A', 'B', 'C']\n",
      "<class 'list'>\n",
      "[100, 200, 'A', 'B']\n",
      "<class 'list'>\n",
      "[100, 200, ['A', 'B']]\n",
      "<class 'list'>\n",
      "[[100, 200], ['A', 'B']]\n",
      "<class 'list'>\n"
     ]
    }
   ],
   "source": [
    "c = [1, 2, 3]\n",
    "print(c)\n",
    "print(type(c))\n",
    "d = ['A', 'B', 'C']\n",
    "print(d)\n",
    "print(type(d))\n",
    "e = [100, 200, 'A', 'B']\n",
    "print(e)\n",
    "print(type(e))\n",
    "f = [100, 200, ['A', 'B']]\n",
    "print(f)\n",
    "print(type(f))\n",
    "g = [[100, 200], ['A', 'B']]\n",
    "print(g)\n",
    "print(type(g))"
   ]
  },
  {
   "cell_type": "code",
   "execution_count": 13,
   "id": "e614c358",
   "metadata": {},
   "outputs": [
    {
     "name": "stdout",
     "output_type": "stream",
     "text": [
      "10\n",
      "<class 'int'>\n",
      "50\n"
     ]
    }
   ],
   "source": [
    "# 리스트 인덱싱\n",
    "a = [10, 20, 30, 40, 50]\n",
    "print(a[0])\n",
    "print(type(a[0])) # 결과를 상수(일반 데이터)로 얻어온다.\n",
    "print(a[-1])"
   ]
  },
  {
   "cell_type": "code",
   "execution_count": 19,
   "id": "90ea5bbe",
   "metadata": {},
   "outputs": [
    {
     "name": "stdout",
     "output_type": "stream",
     "text": [
      "[10]\n",
      "<class 'list'>\n",
      "[20, 30, 40]\n",
      "[50, 40, 30, 20, 10]\n"
     ]
    }
   ],
   "source": [
    "# 리스트 슬라이싱 => 결과를 리스트로 얻어온다.\n",
    "a = [10, 20, 30, 40, 50]\n",
    "print(a[0:1])\n",
    "print(type(a[0:1]))\n",
    "print(a[1:4])\n",
    "print(a[::-1])"
   ]
  },
  {
   "cell_type": "code",
   "execution_count": 22,
   "id": "b9a549b1",
   "metadata": {},
   "outputs": [
    {
     "name": "stdout",
     "output_type": "stream",
     "text": [
      "[1, 2, 3, 4, 5, 6, 7]\n",
      "[1, 2, 3, 1, 2, 3, 1, 2, 3]\n",
      "================================================================================\n"
     ]
    }
   ],
   "source": [
    "# 리스트 연산자\n",
    "# '+' 연산자는 두 개의 리스트를 연결한다.\n",
    "print([1, 2, 3] + [4, 5, 6, 7])\n",
    "# '*' 연산자는 리스트를 지정된 횟수만큼 반복한다.\n",
    "print([1, 2, 3] * 3)\n",
    "print('=' * 80)"
   ]
  },
  {
   "cell_type": "code",
   "execution_count": 30,
   "id": "7ae91b45",
   "metadata": {},
   "outputs": [
    {
     "name": "stdout",
     "output_type": "stream",
     "text": [
      "[[100, 200], ['A', 'B']]\n",
      "[100, 200]\n",
      "['A', 'B']\n",
      "100\n",
      "200\n",
      "A\n",
      "B\n"
     ]
    }
   ],
   "source": [
    "a = [[100, 200], ['A', 'B']]\n",
    "print(a)\n",
    "print(a[0])\n",
    "print(a[1])\n",
    "print(a[0][0])\n",
    "print(a[0][1])\n",
    "print(a[1][0])\n",
    "print(a[1][1])"
   ]
  },
  {
   "cell_type": "code",
   "execution_count": 35,
   "id": "89002ae9",
   "metadata": {},
   "outputs": [
    {
     "name": "stdout",
     "output_type": "stream",
     "text": [
      "[[[100, 200], ['A', 'B']], [['홍길동', '임꺽정'], ['장길산', '일지매']]]\n",
      "[['홍길동', '임꺽정'], ['장길산', '일지매']]\n",
      "['홍길동', '임꺽정']\n",
      "임꺽정\n"
     ]
    }
   ],
   "source": [
    "a = [[[100, 200], ['A', 'B']], [['홍길동', '임꺽정'], ['장길산', '일지매']]]\n",
    "print(a)\n",
    "print(a[1])\n",
    "print(a[1][0])\n",
    "print(a[1][0][1])"
   ]
  },
  {
   "cell_type": "code",
   "execution_count": 36,
   "id": "44759d91",
   "metadata": {},
   "outputs": [],
   "source": [
    "# 리스트 메소드"
   ]
  },
  {
   "cell_type": "code",
   "execution_count": 40,
   "id": "f909ddd8",
   "metadata": {},
   "outputs": [
    {
     "name": "stdout",
     "output_type": "stream",
     "text": [
      "[10, 20, 30, 40, 50]\n",
      "[10, 20, 30, 40, 50, 999]\n"
     ]
    }
   ],
   "source": [
    "# append() 메소드는 리스트의 맨 뒤에 인수로 지정한 데이터를 추가한다.\n",
    "a = [10, 20, 30, 40, 50]\n",
    "print(a)\n",
    "a.append(999)\n",
    "print(a)"
   ]
  },
  {
   "cell_type": "code",
   "execution_count": 42,
   "id": "c32de6c6",
   "metadata": {},
   "outputs": [
    {
     "name": "stdout",
     "output_type": "stream",
     "text": [
      "[10, 20, 30, 40, 50]\n",
      "[10, 999, 20, 30, 40, 50]\n",
      "[10, 777, 20, 30, 40, 50]\n"
     ]
    }
   ],
   "source": [
    "# insert() 메소드는 지정된 index에 인수로 지정한 데이터를 삽입한다. => index 부터 데이터가 한칸씩 뒤로 이동된다.\n",
    "a = [10, 20, 30, 40, 50]\n",
    "print(a)\n",
    "a.insert(1, 999)\n",
    "print(a)\n",
    "a[1] = 777\n",
    "print(a)"
   ]
  },
  {
   "cell_type": "code",
   "execution_count": 44,
   "id": "478457ce",
   "metadata": {},
   "outputs": [
    {
     "name": "stdout",
     "output_type": "stream",
     "text": [
      "[8, 3, 4, 9, 1]\n",
      "[1, 3, 4, 8, 9]\n"
     ]
    }
   ],
   "source": [
    "# sort() 메소드는 리스트에 저장된 데이터를 별도의 설정이 없으면 오름차순(한글 가나다, 영문 ABC)으로 정렬한다.\n",
    "a = [8, 3, 4, 9, 1]\n",
    "print(a)\n",
    "a.sort()\n",
    "print(a)"
   ]
  },
  {
   "cell_type": "code",
   "execution_count": 45,
   "id": "cab550af",
   "metadata": {},
   "outputs": [
    {
     "name": "stdout",
     "output_type": "stream",
     "text": [
      "['d', 'b', 'a', 'c']\n",
      "['a', 'b', 'c', 'd']\n"
     ]
    }
   ],
   "source": [
    "a = ['d', 'b', 'a', 'c']\n",
    "print(a)\n",
    "a.sort()\n",
    "print(a)"
   ]
  },
  {
   "cell_type": "code",
   "execution_count": 46,
   "id": "ccdb4332",
   "metadata": {},
   "outputs": [
    {
     "name": "stdout",
     "output_type": "stream",
     "text": [
      "['홍길동', '임꺽정', '장길산', '일지매']\n",
      "['일지매', '임꺽정', '장길산', '홍길동']\n"
     ]
    }
   ],
   "source": [
    "a = ['홍길동', '임꺽정', '장길산', '일지매']\n",
    "print(a)\n",
    "a.sort()\n",
    "print(a)"
   ]
  },
  {
   "cell_type": "code",
   "execution_count": 47,
   "id": "7c7229ea",
   "metadata": {},
   "outputs": [
    {
     "name": "stdout",
     "output_type": "stream",
     "text": [
      "[8, 3, 4, 9, 1]\n",
      "[1, 3, 4, 8, 9]\n"
     ]
    }
   ],
   "source": [
    "# reverse 옵션의 기본값은 생략시 False가 기본값이고 오름차순으로 정렬된다. True로 지정하면 내림차순으로 정렬된다.\n",
    "a = [8, 3, 4, 9, 1]\n",
    "print(a)\n",
    "a.sort(reverse=False)\n",
    "print(a)"
   ]
  },
  {
   "cell_type": "code",
   "execution_count": 49,
   "id": "6bdc7e40",
   "metadata": {},
   "outputs": [
    {
     "name": "stdout",
     "output_type": "stream",
     "text": [
      "['d', 'b', 'a', 'c']\n",
      "['d', 'c', 'b', 'a']\n"
     ]
    }
   ],
   "source": [
    "a = ['d', 'b', 'a', 'c']\n",
    "print(a)\n",
    "a.sort(reverse=True)\n",
    "print(a)"
   ]
  },
  {
   "cell_type": "code",
   "execution_count": 50,
   "id": "765e8206",
   "metadata": {},
   "outputs": [
    {
     "name": "stdout",
     "output_type": "stream",
     "text": [
      "['홍길동', '임꺽정', '장길산', '일지매']\n",
      "['홍길동', '장길산', '임꺽정', '일지매']\n"
     ]
    }
   ],
   "source": [
    "a = ['홍길동', '임꺽정', '장길산', '일지매']\n",
    "print(a)\n",
    "a.sort(reverse=True)\n",
    "print(a)"
   ]
  },
  {
   "cell_type": "code",
   "execution_count": 52,
   "id": "40740676",
   "metadata": {},
   "outputs": [
    {
     "name": "stdout",
     "output_type": "stream",
     "text": [
      "['홍길동', '임꺽정', '장길산', '일지매']\n",
      "['홍길동', '장길산', '임꺽정', '일지매']\n"
     ]
    }
   ],
   "source": [
    "a = ['홍길동', '임꺽정', '장길산', '일지매']\n",
    "print(a)\n",
    "a.sort()\n",
    "print(a[::-1])"
   ]
  },
  {
   "cell_type": "code",
   "execution_count": 54,
   "id": "0a7df141",
   "metadata": {},
   "outputs": [
    {
     "ename": "TypeError",
     "evalue": "'<' not supported between instances of 'str' and 'int'",
     "output_type": "error",
     "traceback": [
      "\u001b[1;31m---------------------------------------------------------------------------\u001b[0m",
      "\u001b[1;31mTypeError\u001b[0m                                 Traceback (most recent call last)",
      "Input \u001b[1;32mIn [54]\u001b[0m, in \u001b[0;36m<cell line: 2>\u001b[1;34m()\u001b[0m\n\u001b[0;32m      1\u001b[0m a \u001b[38;5;241m=\u001b[39m [\u001b[38;5;241m100\u001b[39m, \u001b[38;5;124m'\u001b[39m\u001b[38;5;124m010\u001b[39m\u001b[38;5;124m'\u001b[39m, \u001b[38;5;241m55\u001b[39m, \u001b[38;5;124m'\u001b[39m\u001b[38;5;124m12345\u001b[39m\u001b[38;5;124m'\u001b[39m]\n\u001b[1;32m----> 2\u001b[0m \u001b[43ma\u001b[49m\u001b[38;5;241;43m.\u001b[39;49m\u001b[43msort\u001b[49m\u001b[43m(\u001b[49m\u001b[43m)\u001b[49m\n",
      "\u001b[1;31mTypeError\u001b[0m: '<' not supported between instances of 'str' and 'int'"
     ]
    }
   ],
   "source": [
    "a = [100, '010', 55, '12345']\n",
    "a.sort() # 정렬하려는 리스트에 저장된 데이터의 타입이 다를 경우 에러가 발생된다."
   ]
  },
  {
   "cell_type": "code",
   "execution_count": 55,
   "id": "7e812784",
   "metadata": {},
   "outputs": [
    {
     "name": "stdout",
     "output_type": "stream",
     "text": [
      "['홍길동', '임꺽정', '장길산', '일지매']\n",
      "['일지매', '장길산', '임꺽정', '홍길동']\n"
     ]
    }
   ],
   "source": [
    "# reverse() 메소드는 리스트에 저장된 데이터의 순서를 뒤집는다.\n",
    "a = ['홍길동', '임꺽정', '장길산', '일지매']\n",
    "print(a)\n",
    "a.reverse()\n",
    "print(a)"
   ]
  },
  {
   "cell_type": "code",
   "execution_count": 62,
   "id": "77f88abb",
   "metadata": {},
   "outputs": [
    {
     "name": "stdout",
     "output_type": "stream",
     "text": [
      "['홍길동', '임꺽정', '장길산', '일지매', '임꺽정']\n",
      "None ['홍길동', '장길산', '일지매', '임꺽정']\n",
      "['홍길동', '장길산', '일지매']\n"
     ]
    }
   ],
   "source": [
    "# remove() 메소드는 인수로 지정된 데이터를 리스트에서 제거한다. => 같은 데이터가 있으면 앞의 데이터를 제거한다.\n",
    "a = ['홍길동', '임꺽정', '장길산', '일지매', '임꺽정']\n",
    "print(a)\n",
    "result = a.remove('임꺽정')\n",
    "print(result, a)\n",
    "a.remove('임꺽정')\n",
    "print(a)"
   ]
  },
  {
   "cell_type": "code",
   "execution_count": 63,
   "id": "b3760c64",
   "metadata": {},
   "outputs": [
    {
     "name": "stdout",
     "output_type": "stream",
     "text": [
      "['홍길동', '임꺽정', '장길산', '일지매', '임꺽정']\n",
      "임꺽정 ['홍길동', '임꺽정', '장길산', '일지매']\n",
      "['홍길동', '임꺽정', '장길산']\n"
     ]
    }
   ],
   "source": [
    "# pop() 메소드는 리스트의 마지막 데이터를 얻어온 후 제거한다.\n",
    "a = ['홍길동', '임꺽정', '장길산', '일지매', '임꺽정']\n",
    "print(a)\n",
    "result = a.pop()\n",
    "print(result, a)\n",
    "a.pop()\n",
    "print(a)"
   ]
  },
  {
   "cell_type": "code",
   "execution_count": null,
   "id": "7b43abd0",
   "metadata": {},
   "outputs": [],
   "source": []
  },
  {
   "cell_type": "code",
   "execution_count": null,
   "id": "7d877cb0",
   "metadata": {},
   "outputs": [],
   "source": []
  },
  {
   "cell_type": "code",
   "execution_count": null,
   "id": "042b589a",
   "metadata": {},
   "outputs": [],
   "source": []
  }
 ],
 "metadata": {
  "kernelspec": {
   "display_name": "Python 3 (ipykernel)",
   "language": "python",
   "name": "python3"
  },
  "language_info": {
   "codemirror_mode": {
    "name": "ipython",
    "version": 3
   },
   "file_extension": ".py",
   "mimetype": "text/x-python",
   "name": "python",
   "nbconvert_exporter": "python",
   "pygments_lexer": "ipython3",
   "version": "3.10.4"
  }
 },
 "nbformat": 4,
 "nbformat_minor": 5
}
