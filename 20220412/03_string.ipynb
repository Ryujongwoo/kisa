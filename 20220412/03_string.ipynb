{
 "cells": [
  {
   "cell_type": "code",
   "execution_count": 1,
   "id": "2a2083ed",
   "metadata": {},
   "outputs": [],
   "source": [
    "# 문자열의 인덱싱과 슬라이싱\n",
    "# 인덱싱 => 문자열에서 특정 위치(index)의 문자 1개를 얻어온다. charAt(index) => 자바, 배열[index] => C\n",
    "# 슬라이싱 => 문자열에서 지정된 범위의 문자열을 얻어온다. => 여러개를 얻어온다."
   ]
  },
  {
   "cell_type": "code",
   "execution_count": 8,
   "id": "861dc4db",
   "metadata": {},
   "outputs": [
    {
     "name": "stdout",
     "output_type": "stream",
     "text": [
      "W\n",
      "<class 'str'>\n",
      "c\n",
      "!\n",
      "!\n",
      "s\n"
     ]
    }
   ],
   "source": [
    "# 문자열 인덱싱 => index는 0부터 시작되고 음수 인덱싱이 가능하다.\n",
    "string = 'We are the champions, My friends!'\n",
    "print(string[0])\n",
    "print(type(string[0]))\n",
    "print(string[11])\n",
    "print(string[32])\n",
    "print(string[-1])\n",
    "print(string[-2])"
   ]
  },
  {
   "cell_type": "code",
   "execution_count": 47,
   "id": "61a7b964",
   "metadata": {},
   "outputs": [
    {
     "name": "stdout",
     "output_type": "stream",
     "text": [
      "W\n",
      "champions\n",
      "We are the champions\n",
      "We are the champions\n",
      "My friends!\n",
      "My friends!\n",
      "My friends!\n",
      "My friends!\n",
      "M red!\n",
      "Mfes\n",
      "!sdneirf yM ,snoipmahc eht era eW\n"
     ]
    }
   ],
   "source": [
    "# 문자열 슬라이싱 => 슬라이싱은 왼쪽에서 오른쪽 방향을 슬라이싱이 실행된다.\n",
    "# 슬라이싱 범위 [시작인덱스:끝인덱스] 형태로 지정하며 시작 인덱스 부터 끝 인덱스 - 1 번째 문자까지 얻어온다.\n",
    "string = 'We are the champions, My friends!'\n",
    "print(string[0:1])\n",
    "print(string[11:20])\n",
    "# 시작 인덱스를 생략하면 맨 처음부터 슬라이싱을 하고 끝 인덱스를 생략하면 맨 마지막까지 슬라이싱 한다.\n",
    "print(string[0:20])\n",
    "print(string[:20])\n",
    "print(string[22:33])\n",
    "print(string[22:])\n",
    "print(string[-11:])\n",
    "# [시작인덱스:끝인덱스:증가치]에서 증가치를 생략하면 1이다.\n",
    "print(string[22:33:1])\n",
    "print(string[22:33:2])\n",
    "print(string[22:33:3])\n",
    "print(string[::-1])"
   ]
  },
  {
   "cell_type": "code",
   "execution_count": 48,
   "id": "476bb235",
   "metadata": {},
   "outputs": [
    {
     "name": "stdout",
     "output_type": "stream",
     "text": [
      "33\n"
     ]
    }
   ],
   "source": [
    "string = 'We are the champions, My friends!'\n",
    "# len() 함수는 문자열을 구성하는 문자의 개수를 얻어온다.\n",
    "print(len(string))"
   ]
  },
  {
   "cell_type": "code",
   "execution_count": 51,
   "id": "b4d19759",
   "metadata": {},
   "outputs": [
    {
     "name": "stdout",
     "output_type": "stream",
     "text": [
      "4\n",
      "1\n",
      "0\n"
     ]
    }
   ],
   "source": [
    "string = 'We are the champions, My friends!'\n",
    "# count() 메소드는 인수로 지정된 문자열의 출현 횟수를 얻어온다.\n",
    "# count() 메소드의 실행 결과가 1이상이면 인수로 지정된 문자열이 포함되어 있다는 의미로 사용할 수 있다.\n",
    "# count() 메소드의 실행 결과가 2이상이면 인수로 지정된 문자열이 중복되서 포함되어 있다는 의미로 사용할 수 있다.\n",
    "print(string.count('e'))\n",
    "print(string.count('We'))\n",
    "print(string.count('we'))"
   ]
  },
  {
   "cell_type": "code",
   "execution_count": 53,
   "id": "4c96b86b",
   "metadata": {},
   "outputs": [
    {
     "name": "stdout",
     "output_type": "stream",
     "text": [
      "1\n",
      "0\n",
      "없음\n"
     ]
    }
   ],
   "source": [
    "string = 'We are the champions, My friends!'\n",
    "# index() 메소드는 인수로 지정된 문자열이 최초로 출현하는 인덱스를 얻어온다.\n",
    "print(string.index('e'))\n",
    "print(string.index('We'))\n",
    "try:\n",
    "    print(string.index('we'))\n",
    "except:\n",
    "    print('없음')"
   ]
  },
  {
   "cell_type": "code",
   "execution_count": 54,
   "id": "b247cfcb",
   "metadata": {},
   "outputs": [
    {
     "name": "stdout",
     "output_type": "stream",
     "text": [
      "1\n",
      "0\n",
      "-1\n"
     ]
    }
   ],
   "source": [
    "string = 'We are the champions, My friends!'\n",
    "# find() 메소드는 인수로 지정된 문자열이 최초로 출현하는 인덱스를 얻어온다.\n",
    "# index() 메소드와 차이점은 인수로 지정된 문자열이 없을 경우 index() 메소드는 에러를 발생시키지만 find() 메소드는 -1을 리턴한다.\n",
    "print(string.find('e'))\n",
    "print(string.find('We'))\n",
    "print(string.find('we'))"
   ]
  },
  {
   "cell_type": "code",
   "execution_count": 57,
   "id": "30922f6a",
   "metadata": {},
   "outputs": [
    {
     "name": "stdout",
     "output_type": "stream",
     "text": [
      "T j o e u n I T\n",
      "T^^j^^o^^e^^u^^n^^I^^T\n",
      "T~(^^!)j~(^^!)o~(^^!)e~(^^!)u~(^^!)n~(^^!)I~(^^!)T\n"
     ]
    }
   ],
   "source": [
    "string = 'TjoeunIT'\n",
    "# join() 메소드는 특정 문자열을 인수로 지정된 문자열을 사이에 삽입한다.\n",
    "print(' '.join(string))\n",
    "print('^^'.join(string))\n",
    "print('~(^^!)'.join(string))"
   ]
  },
  {
   "cell_type": "code",
   "execution_count": 59,
   "id": "ec326329",
   "metadata": {},
   "outputs": [
    {
     "name": "stdout",
     "output_type": "stream",
     "text": [
      "TJOEUNIT\n",
      "tjoeunit\n"
     ]
    }
   ],
   "source": [
    "string = 'TjoeunIT'\n",
    "# upper() 메소드는 문자열을 무조건 대문자로 변환하고 lower() 메소드는 문자열을 모두 소문자로 변환한다.\n",
    "print(string.upper())\n",
    "print(string.lower())"
   ]
  },
  {
   "cell_type": "code",
   "execution_count": 64,
   "id": "3c93baa6",
   "metadata": {},
   "outputs": [
    {
     "name": "stdout",
     "output_type": "stream",
     "text": [
      "    TjoeunIT    \n",
      "16\n",
      "TjoeunIT    \n",
      "    TjoeunIT\n",
      "TjoeunIT\n"
     ]
    }
   ],
   "source": [
    "string = '    TjoeunIT    '\n",
    "print(string)\n",
    "print(len(string))\n",
    "# lstrip() 메소드는 문자열 왼쪽의 불필요한 공백을 제거한다.\n",
    "print(string.lstrip())\n",
    "# rstrip() 메소드는 문자열 오른쪽의 불필요한 공백을 제거한다.\n",
    "print(string.rstrip())\n",
    "# strip() 메소드는 문자열 앞, 뒤의 불필요한 공백을 제거한다. trim() => 자바\n",
    "print(string.strip())"
   ]
  },
  {
   "cell_type": "code",
   "execution_count": 66,
   "id": "8f29c1d2",
   "metadata": {},
   "outputs": [
    {
     "name": "stdout",
     "output_type": "stream",
     "text": [
      "We are the champions, Your friends!\n",
      "W뷁 ar뷁 th뷁 champions, My fri뷁nds!\n"
     ]
    }
   ],
   "source": [
    "string = 'We are the champions, My friends!'\n",
    "# replace(oldString, newString) 메소드는 문자열의 모든 oldString을 newString으로 치환한다.\n",
    "print(string.replace('My', 'Your'))\n",
    "print(string.replace('e', '뷁'))"
   ]
  },
  {
   "cell_type": "code",
   "execution_count": 70,
   "id": "07375eac",
   "metadata": {},
   "outputs": [
    {
     "name": "stdout",
     "output_type": "stream",
     "text": [
      "['We', 'are', 'the', 'champions,', 'My', 'friends!']\n",
      "['We are the champions', ' My friends!']\n",
      "['We are the champions', 'My friends!']\n",
      "<class 'list'>\n"
     ]
    }
   ],
   "source": [
    "string = 'We are the champions, My friends!'\n",
    "# split() 메소드는 문자열을 인수로 지정한 구분자를 이용해서 나눈다. 메소드의 실행 결과를 list를 리턴한다.\n",
    "print(string.split()) # 구분자를 생략하면 공백이 기본 구분자로 사용된다.\n",
    "print(string.split(','))\n",
    "print(string.split(', '))\n",
    "print(type(string.split()))"
   ]
  },
  {
   "cell_type": "code",
   "execution_count": 75,
   "id": "f8d8d9c4",
   "metadata": {},
   "outputs": [
    {
     "name": "stdout",
     "output_type": "stream",
     "text": [
      "example\n"
     ]
    }
   ],
   "source": [
    "# strip() 메소드의 응용\n",
    "# strip() 메소드에 인수를 지정하지 않으면 공백이 기본값으로 사용되서 앞, 뒤의 공백을 지운다.\n",
    "# strip() 메소드는 인수가 지정되면 인수로 지정된 문자열을 구성하는 문자가 문자열 앞, 뒤에 나오지 않을 때 까지 제거한다.\n",
    "print('www.example.com'.strip('cm.ow'))"
   ]
  },
  {
   "cell_type": "code",
   "execution_count": null,
   "id": "8bebf2aa",
   "metadata": {},
   "outputs": [],
   "source": [
    "# char, short, int, long, float, double => C언어의 기본 자료형"
   ]
  },
  {
   "cell_type": "code",
   "execution_count": null,
   "id": "70ea69f7",
   "metadata": {},
   "outputs": [],
   "source": [
    "# bool, char, short, int, long, float, double => C++의 기본 자료형"
   ]
  },
  {
   "cell_type": "code",
   "execution_count": null,
   "id": "bc56572f",
   "metadata": {},
   "outputs": [],
   "source": [
    "# boolean, byte, char, short, int, long, float, double => Java의 기본 자료형"
   ]
  },
  {
   "cell_type": "code",
   "execution_count": null,
   "id": "2f623022",
   "metadata": {},
   "outputs": [],
   "source": [
    "# list => ArrayList"
   ]
  },
  {
   "cell_type": "code",
   "execution_count": null,
   "id": "b6627d0d",
   "metadata": {},
   "outputs": [],
   "source": [
    "# set => HashSet, TreeSet"
   ]
  },
  {
   "cell_type": "code",
   "execution_count": null,
   "id": "3d8e26f2",
   "metadata": {},
   "outputs": [],
   "source": [
    "# dict => HashMap, TreeMap"
   ]
  },
  {
   "cell_type": "code",
   "execution_count": null,
   "id": "ab81a26c",
   "metadata": {},
   "outputs": [],
   "source": []
  },
  {
   "cell_type": "code",
   "execution_count": null,
   "id": "f733315d",
   "metadata": {},
   "outputs": [],
   "source": []
  },
  {
   "cell_type": "code",
   "execution_count": null,
   "id": "d84718c6",
   "metadata": {},
   "outputs": [],
   "source": []
  }
 ],
 "metadata": {
  "kernelspec": {
   "display_name": "Python 3 (ipykernel)",
   "language": "python",
   "name": "python3"
  },
  "language_info": {
   "codemirror_mode": {
    "name": "ipython",
    "version": 3
   },
   "file_extension": ".py",
   "mimetype": "text/x-python",
   "name": "python",
   "nbconvert_exporter": "python",
   "pygments_lexer": "ipython3",
   "version": "3.10.4"
  }
 },
 "nbformat": 4,
 "nbformat_minor": 5
}
