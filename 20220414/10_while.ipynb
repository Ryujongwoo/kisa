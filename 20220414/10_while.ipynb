{
 "cells": [
  {
   "cell_type": "code",
   "execution_count": 1,
   "id": "b80f70a8",
   "metadata": {},
   "outputs": [],
   "source": [
    "# while은 조건이 참인동안 반복하다 조건이 거짓이 되는 순간 반복이 종료된다.\n",
    "# while로 진입하는 최초 조건이 거짓일 경우 한 번도 반복을 실행하지 않는다.\n",
    "# for는 반복을 몇 번 해야하는지 아는 경우 사용하고 while은 반복을 하기는 해야겠는데 몇 번 해야하는지 정확히 모를 때 사용한다."
   ]
  },
  {
   "cell_type": "code",
   "execution_count": 2,
   "id": "f296446d",
   "metadata": {},
   "outputs": [],
   "source": [
    "# while 조건식:\n",
    "    # 조건식이 참인 경우 실행할 문장\n",
    "    # ..."
   ]
  },
  {
   "cell_type": "code",
   "execution_count": 6,
   "id": "1aa9ec28",
   "metadata": {},
   "outputs": [
    {
     "name": "stdout",
     "output_type": "stream",
     "text": [
      "1 ~ 10의 합계: 55\n",
      "1 ~ 10의 합계: 0\n"
     ]
    }
   ],
   "source": [
    "# 1 ~ 10의 합계\n",
    "total = 0\n",
    "for i in range(1, 11): # i는 1부터 시작해 1씩 증가하면서 10까지 반복한다.\n",
    "    total += i\n",
    "print('1 ~ 10의 합계: {}'.format(total))\n",
    "\n",
    "i = 0 # 초기치\n",
    "total = 0\n",
    "while i < 10: # 최종치\n",
    "    i += 1 # 증가치\n",
    "    total += i\n",
    "print('1 ~ 10의 합계: {}'.format(total))"
   ]
  },
  {
   "cell_type": "code",
   "execution_count": 8,
   "id": "c7bf7ef6",
   "metadata": {},
   "outputs": [
    {
     "name": "stdout",
     "output_type": "stream",
     "text": [
      "1 ~ 10의 합계: 55\n"
     ]
    }
   ],
   "source": [
    "# while 명령의 조건식이 항상 참이면 무한루프가 된다.\n",
    "i = 0\n",
    "total = 0\n",
    "while i < 10:\n",
    "    i += 1\n",
    "    total += i\n",
    "print('1 ~ 10의 합계: {}'.format(total))"
   ]
  },
  {
   "cell_type": "code",
   "execution_count": 9,
   "id": "982e1915",
   "metadata": {},
   "outputs": [
    {
     "name": "stdout",
     "output_type": "stream",
     "text": [
      "1\n",
      "2\n",
      "3\n",
      "4\n",
      "5\n"
     ]
    }
   ],
   "source": [
    "# 사용자가 의도적으로 무한루프를 발생시켰다면 반드시 무한루프를 종료하는 처리를 해야한다. => 반복을 탈출시켜야 한다. => break\n",
    "# break 명령은 for와 while 같은 반복문의 실행을 중지시킨다.\n",
    "for i in range(1, 11):\n",
    "    if i == 6:\n",
    "        break\n",
    "    print(i)"
   ]
  },
  {
   "cell_type": "code",
   "execution_count": 10,
   "id": "d81eb13a",
   "metadata": {},
   "outputs": [
    {
     "name": "stdout",
     "output_type": "stream",
     "text": [
      "1\n",
      "2\n",
      "3\n",
      "4\n",
      "5\n",
      "7\n",
      "8\n",
      "9\n",
      "10\n"
     ]
    }
   ],
   "source": [
    "# break 명령은 break 명령 다음 문장들을 실행하지 않고 반복을 중지하고 continue 명령은 continue 명령 다음 문장들을 실행하지 않고\n",
    "# 계속 반복을 실행한다.\n",
    "for i in range(1, 11):\n",
    "    if i == 6:\n",
    "        continue\n",
    "    print(i)"
   ]
  },
  {
   "cell_type": "code",
   "execution_count": 32,
   "id": "b42d3359",
   "metadata": {},
   "outputs": [
    {
     "name": "stdout",
     "output_type": "stream",
     "text": [
      "<__main__.CharClass object at 0x000002732A03FEE0>\n",
      "['Seoul', 'Kyeongi', 'Inchon', 'Daejeon', 'Daegu', 'Pusan']\n",
      "SKIDDP\n"
     ]
    }
   ],
   "source": [
    "# 클래스 => 설계도 => 설계도만 가지고는 아무런 일도 할 수 없다.\n",
    "class CharClass:\n",
    "    a = ['Seoul', 'Kyeongi', 'Inchon', 'Daejeon', 'Daegu', 'Pusan']; # 데이터만 있고 동작(메소드)은 들어있지 않다. => C의 구조체와 유사\n",
    "# ===== 클래스 선언 끝    \n",
    "\n",
    "myVar = CharClass() # 프로그램에서 사용할 CharClass 클래스(설계도)의 객체(제품)를 선언한다.(만든다.)\n",
    "print(myVar)\n",
    "print(myVar.a)\n",
    "\n",
    "str01 = ''\n",
    "for i in myVar.a:\n",
    "    str01 = str01 + i[0]\n",
    "print(str01)"
   ]
  },
  {
   "cell_type": "code",
   "execution_count": 36,
   "id": "808e0b56",
   "metadata": {},
   "outputs": [
    {
     "name": "stdout",
     "output_type": "stream",
     "text": [
      "uohjga\n"
     ]
    }
   ],
   "source": [
    "a = ['Seoul', 'Kyeongi', 'Inchon', 'Daejeon', 'Daegu', 'Pusan']\n",
    "str01 = ''\n",
    "for i in ['Seoul', 'Kyeongi', 'Inchon', 'Daejeon', 'Daegu', 'Pusan']:\n",
    "    str01 = str01 + i[3]\n",
    "print(str01)"
   ]
  },
  {
   "cell_type": "code",
   "execution_count": 34,
   "id": "7caeadd1",
   "metadata": {},
   "outputs": [
    {
     "name": "stdout",
     "output_type": "stream",
     "text": [
      "S K I D D P\n"
     ]
    }
   ],
   "source": [
    "print('Seoul'[0], 'Kyeongi'[0], 'Inchon'[0], 'Daejeon'[0], 'Daegu'[0], 'Pusan'[0])"
   ]
  },
  {
   "cell_type": "code",
   "execution_count": null,
   "id": "ab4a97ec",
   "metadata": {},
   "outputs": [],
   "source": [
    "# >>: 우측 산술 shift, 1비트 shift 할 때 마다 / 2가 된다.\n",
    "# <<: 좌측 산술 shift, 1비트 shift 할 때 마다 * 2가 된다."
   ]
  },
  {
   "cell_type": "code",
   "execution_count": 39,
   "id": "633b5f60",
   "metadata": {},
   "outputs": [
    {
     "name": "stdout",
     "output_type": "stream",
     "text": [
      "20\n",
      "40\n",
      "80\n"
     ]
    }
   ],
   "source": [
    "print(10 << 1)\n",
    "print(10 << 2)\n",
    "print(10 << 3)"
   ]
  },
  {
   "cell_type": "code",
   "execution_count": 40,
   "id": "7dc430ef",
   "metadata": {},
   "outputs": [
    {
     "name": "stdout",
     "output_type": "stream",
     "text": [
      "5\n",
      "2\n",
      "1\n"
     ]
    }
   ],
   "source": [
    "print(10 >> 1)\n",
    "print(10 >> 2)\n",
    "print(10 >> 3)"
   ]
  },
  {
   "cell_type": "code",
   "execution_count": 50,
   "id": "5b29022b",
   "metadata": {},
   "outputs": [
    {
     "name": "stdout",
     "output_type": "stream",
     "text": [
      "50\n",
      "51\n",
      "25\n",
      "26\n"
     ]
    }
   ],
   "source": [
    "a = 100\n",
    "result = 0\n",
    "for i in range(1, 3):\n",
    "    result = a >> i\n",
    "    print(result)\n",
    "    result = result + 1\n",
    "    print(result)"
   ]
  },
  {
   "cell_type": "code",
   "execution_count": 42,
   "id": "b55489d9",
   "metadata": {},
   "outputs": [
    {
     "name": "stdout",
     "output_type": "stream",
     "text": [
      "50\n",
      "25\n"
     ]
    }
   ],
   "source": [
    "print(100 >> 1)\n",
    "print(100 >> 2)"
   ]
  },
  {
   "cell_type": "code",
   "execution_count": 51,
   "id": "ff1aedf8",
   "metadata": {},
   "outputs": [
    {
     "name": "stdout",
     "output_type": "stream",
     "text": [
      "8\n"
     ]
    }
   ],
   "source": [
    "a = 10\n",
    "a = a >> 1 # 5\n",
    "a = a >> 1 # 2\n",
    "a = a << 1 # 4\n",
    "a = a << 1 # 8\n",
    "print(a)"
   ]
  },
  {
   "cell_type": "code",
   "execution_count": null,
   "id": "35a95d41",
   "metadata": {},
   "outputs": [],
   "source": []
  },
  {
   "cell_type": "code",
   "execution_count": null,
   "id": "b4d9b2c3",
   "metadata": {},
   "outputs": [],
   "source": []
  },
  {
   "cell_type": "code",
   "execution_count": null,
   "id": "afdd79cd",
   "metadata": {},
   "outputs": [],
   "source": []
  }
 ],
 "metadata": {
  "kernelspec": {
   "display_name": "Python 3 (ipykernel)",
   "language": "python",
   "name": "python3"
  },
  "language_info": {
   "codemirror_mode": {
    "name": "ipython",
    "version": 3
   },
   "file_extension": ".py",
   "mimetype": "text/x-python",
   "name": "python",
   "nbconvert_exporter": "python",
   "pygments_lexer": "ipython3",
   "version": "3.10.4"
  }
 },
 "nbformat": 4,
 "nbformat_minor": 5
}
