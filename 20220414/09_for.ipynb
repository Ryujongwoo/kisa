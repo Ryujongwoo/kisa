{
 "cells": [
  {
   "cell_type": "markdown",
   "id": "a6588d46",
   "metadata": {},
   "source": [
    "range() 함수는 초기치, 최종치, 증가치에 따른 숫자 리스트를 만들어준다.  \n",
    "range([초기치, ]최종치[, 증가치]) => [] 안의 내용은 생략할 수 있다.  \n",
    "초기치와 증가치는 생략할 수 있으며 초기치는 생략하면 0이, 증가치는 생략하면 1이 기본값으로 사용된다.  \n",
    "range(0, 10, 1)과 range(10)의 의미는 같다."
   ]
  },
  {
   "cell_type": "code",
   "execution_count": 6,
   "id": "b1dd5f83",
   "metadata": {},
   "outputs": [
    {
     "name": "stdout",
     "output_type": "stream",
     "text": [
      "range(0, 10)\n",
      "[0, 1, 2, 3, 4, 5, 6, 7, 8, 9]\n",
      "range(0, 10)\n",
      "[0, 1, 2, 3, 4, 5, 6, 7, 8, 9]\n"
     ]
    }
   ],
   "source": [
    "# range() 함수는 초기치 부터 증가치 만큼 증가하면서 최종치를 넘어가지 않는 숫자 리스트를 만들어 리턴한다.\n",
    "print(range(0, 10, 1))\n",
    "print(list(range(0, 10, 1)))\n",
    "print(range(10))\n",
    "print(list(range(10)))"
   ]
  },
  {
   "cell_type": "code",
   "execution_count": 7,
   "id": "faf596f3",
   "metadata": {},
   "outputs": [],
   "source": [
    "# for (자료형 변수명=초기치; 조건식; 증감치) => C언어, java의 for\n",
    "# for 변수 in 리스트 => python의 for"
   ]
  },
  {
   "cell_type": "code",
   "execution_count": 8,
   "id": "d060e524",
   "metadata": {},
   "outputs": [
    {
     "name": "stdout",
     "output_type": "stream",
     "text": [
      "0\n",
      "1\n",
      "2\n",
      "3\n",
      "4\n"
     ]
    }
   ],
   "source": [
    "# 리스트의 0번째 인덱의 값 부터 마지막 인덱스의 값까지 차례대로 변수에 저장되며 반복한다.\n",
    "for i in [0, 1, 2, 3, 4]:\n",
    "    print(i)"
   ]
  },
  {
   "cell_type": "code",
   "execution_count": 10,
   "id": "264dc322",
   "metadata": {},
   "outputs": [
    {
     "name": "stdout",
     "output_type": "stream",
     "text": [
      "[0, 1, 2, 3, 4]\n",
      "0\n",
      "1\n",
      "2\n",
      "3\n",
      "4\n"
     ]
    }
   ],
   "source": [
    "print(list(range(0, 5, 1)))\n",
    "for i in range(0, 5, 1):\n",
    "    print(i)"
   ]
  },
  {
   "cell_type": "code",
   "execution_count": 11,
   "id": "a3762626",
   "metadata": {},
   "outputs": [
    {
     "name": "stdout",
     "output_type": "stream",
     "text": [
      "0\n",
      "1\n",
      "2\n",
      "3\n",
      "4\n"
     ]
    }
   ],
   "source": [
    "for i in (0, 1, 2, 3, 4):\n",
    "    print(i)"
   ]
  },
  {
   "cell_type": "code",
   "execution_count": 12,
   "id": "749de1b6",
   "metadata": {},
   "outputs": [
    {
     "name": "stdout",
     "output_type": "stream",
     "text": [
      "0\n",
      "1\n",
      "2\n",
      "3\n",
      "4\n"
     ]
    }
   ],
   "source": [
    "for i in 0, 1, 2, 3, 4:\n",
    "    print(i)"
   ]
  },
  {
   "cell_type": "code",
   "execution_count": 13,
   "id": "3f0a0c44",
   "metadata": {},
   "outputs": [
    {
     "name": "stdout",
     "output_type": "stream",
     "text": [
      "0\n",
      "1\n",
      "2\n",
      "3\n",
      "4\n"
     ]
    }
   ],
   "source": [
    "for i in {0, 1, 2, 3, 4}:\n",
    "    print(i)"
   ]
  },
  {
   "cell_type": "code",
   "execution_count": 16,
   "id": "dd5c6e7d",
   "metadata": {},
   "outputs": [
    {
     "name": "stdout",
     "output_type": "stream",
     "text": [
      "5050\n"
     ]
    }
   ],
   "source": [
    "total = 0\n",
    "for i in range(1, 101, 1):\n",
    "    # total = total + i\n",
    "    total += i # 대입 연산자, 연산자 우선 순위는 가장 늦다.\n",
    "print(total)"
   ]
  },
  {
   "cell_type": "code",
   "execution_count": 17,
   "id": "834eae15",
   "metadata": {},
   "outputs": [
    {
     "name": "stdout",
     "output_type": "stream",
     "text": [
      "2500\n"
     ]
    }
   ],
   "source": [
    "total = 0\n",
    "for i in range(1, 101, 2):\n",
    "    total += i\n",
    "print(total)"
   ]
  },
  {
   "cell_type": "code",
   "execution_count": 18,
   "id": "44de0651",
   "metadata": {},
   "outputs": [
    {
     "name": "stdout",
     "output_type": "stream",
     "text": [
      "2550\n"
     ]
    }
   ],
   "source": [
    "total = 0\n",
    "for i in range(2, 101, 2):\n",
    "    total += i\n",
    "print(total)"
   ]
  },
  {
   "cell_type": "code",
   "execution_count": 20,
   "id": "4685ce15",
   "metadata": {},
   "outputs": [],
   "source": [
    "import random"
   ]
  },
  {
   "cell_type": "code",
   "execution_count": 21,
   "id": "17a56865",
   "metadata": {},
   "outputs": [],
   "source": [
    "# 1개의 주사위를 10번 굴렸을 때 나타나는 눈의 개수를 센다.\n",
    "# 변수 사용"
   ]
  },
  {
   "cell_type": "code",
   "execution_count": 27,
   "id": "7abc3996",
   "metadata": {},
   "outputs": [
    {
     "name": "stdout",
     "output_type": "stream",
     "text": [
      "1의 개수: 167202\n",
      "2의 개수: 166699\n",
      "3의 개수: 166743\n",
      "4의 개수: 165952\n",
      "5의 개수: 166958\n",
      "6의 개수: 166446\n"
     ]
    }
   ],
   "source": [
    "num1 = 0; num2 = 0; num3 = 0; num4 = 0; num5 = 0; num6 = 0\n",
    "for i in range(10):\n",
    "    r = random.randrange(1, 7)\n",
    "    print(r)\n",
    "    if r == 1:\n",
    "        num1 += 1\n",
    "    elif r == 2:\n",
    "        num2 += 1\n",
    "    elif r == 3:\n",
    "        num3 += 1\n",
    "    elif r == 4:\n",
    "        num4 += 1\n",
    "    elif r == 5:\n",
    "        num5 += 1\n",
    "    else:\n",
    "        num6 += 1\n",
    "        \n",
    "print('1의 개수: {}'.format(num1))\n",
    "print('2의 개수: {}'.format(num2))\n",
    "print('3의 개수: {}'.format(num3))\n",
    "print('4의 개수: {}'.format(num4))\n",
    "print('5의 개수: {}'.format(num5))\n",
    "print('6의 개수: {}'.format(num6))"
   ]
  },
  {
   "cell_type": "code",
   "execution_count": 28,
   "id": "d56b08e4",
   "metadata": {},
   "outputs": [],
   "source": [
    "# 리스트 사용"
   ]
  },
  {
   "cell_type": "code",
   "execution_count": 32,
   "id": "8ad618ee",
   "metadata": {},
   "outputs": [
    {
     "name": "stdout",
     "output_type": "stream",
     "text": [
      "2\n",
      "2\n",
      "1\n",
      "1\n",
      "2\n",
      "6\n",
      "4\n",
      "4\n",
      "1\n",
      "3\n",
      "1의 개수: 3\n",
      "2의 개수: 3\n",
      "3의 개수: 1\n",
      "4의 개수: 2\n",
      "5의 개수: 0\n",
      "6의 개수: 1\n"
     ]
    }
   ],
   "source": [
    "# count = [0, 0, 0, 0, 0, 0]\n",
    "# count = []\n",
    "# for i in range(6):\n",
    "    # count.append(0)\n",
    "# 0이 6번 반복되는 리스트를 만든다.\n",
    "count = [0 for i in range(6)]\n",
    "# print(count)\n",
    "\n",
    "for i in range(10):\n",
    "    r = random.randrange(1, 7)\n",
    "    print(r)\n",
    "    if r == 1:\n",
    "        count[0] += 1\n",
    "    elif r == 2:\n",
    "        count[1] += 1\n",
    "    elif r == 3:\n",
    "        count[2] += 1\n",
    "    elif r == 4:\n",
    "        count[3] += 1\n",
    "    elif r == 5:\n",
    "        count[4] += 1\n",
    "    else:\n",
    "        count[5] += 1\n",
    "        \n",
    "print('1의 개수: {}'.format(count[0]))\n",
    "print('2의 개수: {}'.format(count[1]))\n",
    "print('3의 개수: {}'.format(count[2]))\n",
    "print('4의 개수: {}'.format(count[3]))\n",
    "print('5의 개수: {}'.format(count[4]))\n",
    "print('6의 개수: {}'.format(count[5]))"
   ]
  },
  {
   "cell_type": "code",
   "execution_count": 35,
   "id": "175d3a36",
   "metadata": {},
   "outputs": [
    {
     "name": "stdout",
     "output_type": "stream",
     "text": [
      "6\n",
      "6\n",
      "5\n",
      "4\n",
      "4\n",
      "4\n",
      "5\n",
      "3\n",
      "3\n",
      "2\n",
      "1의 개수: 0\n",
      "2의 개수: 1\n",
      "3의 개수: 2\n",
      "4의 개수: 3\n",
      "5의 개수: 2\n",
      "6의 개수: 2\n"
     ]
    }
   ],
   "source": [
    "count = [0 for i in range(6)]\n",
    "for i in range(10):\n",
    "    r = random.randrange(1, 7)\n",
    "    print(r)\n",
    "    count[r - 1] += 1\n",
    "for i in range(6):\n",
    "    print('{}의 개수: {}'.format(i + 1, count[i]))"
   ]
  },
  {
   "cell_type": "code",
   "execution_count": 36,
   "id": "ef214e40",
   "metadata": {},
   "outputs": [
    {
     "name": "stdout",
     "output_type": "stream",
     "text": [
      "['Life', 'is', 'too', 'short']\n"
     ]
    }
   ],
   "source": [
    "a = ['Life', 'is', 'too', 'short']\n",
    "print(a)"
   ]
  },
  {
   "cell_type": "code",
   "execution_count": 37,
   "id": "0f38ce64",
   "metadata": {},
   "outputs": [
    {
     "name": "stdout",
     "output_type": "stream",
     "text": [
      "Life\n",
      "is\n",
      "too\n",
      "short\n"
     ]
    }
   ],
   "source": [
    "for i in a:\n",
    "    print(i)"
   ]
  },
  {
   "cell_type": "code",
   "execution_count": 39,
   "id": "3fa8285e",
   "metadata": {},
   "outputs": [
    {
     "name": "stdout",
     "output_type": "stream",
     "text": [
      "Life\n",
      "is\n",
      "too\n",
      "short\n"
     ]
    }
   ],
   "source": [
    "for i in range(len(a)):\n",
    "    print(a[i])"
   ]
  },
  {
   "cell_type": "code",
   "execution_count": 41,
   "id": "c5c584d8",
   "metadata": {},
   "outputs": [
    {
     "name": "stdout",
     "output_type": "stream",
     "text": [
      "is\n",
      "too\n"
     ]
    }
   ],
   "source": [
    "for i in a[1:3]:\n",
    "    print(i)"
   ]
  },
  {
   "cell_type": "code",
   "execution_count": 42,
   "id": "559e958e",
   "metadata": {},
   "outputs": [
    {
     "name": "stdout",
     "output_type": "stream",
     "text": [
      "('Life', 'is', 'too', 'short')\n"
     ]
    }
   ],
   "source": [
    "a = 'Life', 'is', 'too', 'short'\n",
    "print(a)"
   ]
  },
  {
   "cell_type": "code",
   "execution_count": 43,
   "id": "f6b6e238",
   "metadata": {},
   "outputs": [
    {
     "name": "stdout",
     "output_type": "stream",
     "text": [
      "Life\n",
      "is\n",
      "too\n",
      "short\n",
      "Life\n",
      "is\n",
      "too\n",
      "short\n",
      "is\n",
      "too\n"
     ]
    }
   ],
   "source": [
    "for i in a:\n",
    "    print(i)\n",
    "for i in range(len(a)):\n",
    "    print(a[i])\n",
    "for i in a[1:3]:\n",
    "    print(i)"
   ]
  },
  {
   "cell_type": "code",
   "execution_count": 44,
   "id": "4fcca4f8",
   "metadata": {},
   "outputs": [
    {
     "name": "stdout",
     "output_type": "stream",
     "text": [
      "{'short', 'too', 'Life', 'is'}\n"
     ]
    }
   ],
   "source": [
    "a = {'Life', 'is', 'too', 'short'}\n",
    "print(a)"
   ]
  },
  {
   "cell_type": "code",
   "execution_count": 45,
   "id": "e5203e8a",
   "metadata": {},
   "outputs": [
    {
     "name": "stdout",
     "output_type": "stream",
     "text": [
      "short\n",
      "too\n",
      "Life\n",
      "is\n"
     ]
    }
   ],
   "source": [
    "for i in a:\n",
    "    print(i)"
   ]
  },
  {
   "cell_type": "code",
   "execution_count": 46,
   "id": "695d77a0",
   "metadata": {},
   "outputs": [
    {
     "ename": "TypeError",
     "evalue": "'set' object is not subscriptable",
     "output_type": "error",
     "traceback": [
      "\u001b[1;31m---------------------------------------------------------------------------\u001b[0m",
      "\u001b[1;31mTypeError\u001b[0m                                 Traceback (most recent call last)",
      "Input \u001b[1;32mIn [46]\u001b[0m, in \u001b[0;36m<cell line: 1>\u001b[1;34m()\u001b[0m\n\u001b[0;32m      1\u001b[0m \u001b[38;5;28;01mfor\u001b[39;00m i \u001b[38;5;129;01min\u001b[39;00m \u001b[38;5;28mrange\u001b[39m(\u001b[38;5;28mlen\u001b[39m(a)):\n\u001b[1;32m----> 2\u001b[0m     \u001b[38;5;28mprint\u001b[39m(\u001b[43ma\u001b[49m\u001b[43m[\u001b[49m\u001b[43mi\u001b[49m\u001b[43m]\u001b[49m)\n",
      "\u001b[1;31mTypeError\u001b[0m: 'set' object is not subscriptable"
     ]
    }
   ],
   "source": [
    "for i in range(len(a)):\n",
    "    print(a[i])"
   ]
  },
  {
   "cell_type": "code",
   "execution_count": 47,
   "id": "e776de8e",
   "metadata": {},
   "outputs": [
    {
     "ename": "TypeError",
     "evalue": "'set' object is not subscriptable",
     "output_type": "error",
     "traceback": [
      "\u001b[1;31m---------------------------------------------------------------------------\u001b[0m",
      "\u001b[1;31mTypeError\u001b[0m                                 Traceback (most recent call last)",
      "Input \u001b[1;32mIn [47]\u001b[0m, in \u001b[0;36m<cell line: 1>\u001b[1;34m()\u001b[0m\n\u001b[1;32m----> 1\u001b[0m \u001b[38;5;28;01mfor\u001b[39;00m i \u001b[38;5;129;01min\u001b[39;00m \u001b[43ma\u001b[49m\u001b[43m[\u001b[49m\u001b[38;5;241;43m1\u001b[39;49m\u001b[43m:\u001b[49m\u001b[38;5;241;43m3\u001b[39;49m\u001b[43m]\u001b[49m:\n\u001b[0;32m      2\u001b[0m     \u001b[38;5;28mprint\u001b[39m(i)\n",
      "\u001b[1;31mTypeError\u001b[0m: 'set' object is not subscriptable"
     ]
    }
   ],
   "source": [
    "for i in a[1:3]:\n",
    "    print(i)"
   ]
  },
  {
   "cell_type": "code",
   "execution_count": 48,
   "id": "328caff8",
   "metadata": {},
   "outputs": [
    {
     "name": "stdout",
     "output_type": "stream",
     "text": [
      "{'apple': 1000, 'banana': 2000, 'melon': 10000, 'mango': 5000}\n"
     ]
    }
   ],
   "source": [
    "a = {'apple': 1000, 'banana': 2000, 'melon': 10000, 'mango': 5000}\n",
    "print(a)"
   ]
  },
  {
   "cell_type": "code",
   "execution_count": 57,
   "id": "614b9360",
   "metadata": {},
   "outputs": [
    {
     "name": "stdout",
     "output_type": "stream",
     "text": [
      "apple banana melon mango "
     ]
    }
   ],
   "source": [
    "for i in a: # 딕셔너리 이름만 사용하면 key가 반복된다.\n",
    "    print(i, end=' ')"
   ]
  },
  {
   "cell_type": "code",
   "execution_count": 58,
   "id": "d885882c",
   "metadata": {},
   "outputs": [
    {
     "name": "stdout",
     "output_type": "stream",
     "text": [
      "apple banana melon mango "
     ]
    }
   ],
   "source": [
    "for i in a.keys(): # keys() 메소드를 사용하면 딕셔너리에서 key만 얻어온다.\n",
    "    print(i, end=' ')"
   ]
  },
  {
   "cell_type": "code",
   "execution_count": 54,
   "id": "b2f8979e",
   "metadata": {},
   "outputs": [
    {
     "name": "stdout",
     "output_type": "stream",
     "text": [
      "1000 2000 10000 5000 "
     ]
    }
   ],
   "source": [
    "for i in a.keys():\n",
    "    print(a[i], end=' ')"
   ]
  },
  {
   "cell_type": "code",
   "execution_count": 55,
   "id": "150bb991",
   "metadata": {},
   "outputs": [
    {
     "name": "stdout",
     "output_type": "stream",
     "text": [
      "1000 2000 10000 5000 "
     ]
    }
   ],
   "source": [
    "for i in a.keys():\n",
    "    print(a.get(i), end=' ')"
   ]
  },
  {
   "cell_type": "code",
   "execution_count": 56,
   "id": "3103bc18",
   "metadata": {},
   "outputs": [
    {
     "name": "stdout",
     "output_type": "stream",
     "text": [
      "1000 2000 10000 5000 "
     ]
    }
   ],
   "source": [
    "for i in a.values(): # values() 메소드를 사용하면 딕셔너리에서 value만 얻어온다.\n",
    "    print(i, end=' ')"
   ]
  },
  {
   "cell_type": "code",
   "execution_count": 60,
   "id": "634d2af0",
   "metadata": {},
   "outputs": [
    {
     "name": "stdout",
     "output_type": "stream",
     "text": [
      "('apple', 1000) ('banana', 2000) ('melon', 10000) ('mango', 5000) "
     ]
    }
   ],
   "source": [
    "for i in a.items():\n",
    "    print(i, end=' ')"
   ]
  },
  {
   "cell_type": "code",
   "execution_count": 61,
   "id": "2b9cf551",
   "metadata": {},
   "outputs": [
    {
     "name": "stdout",
     "output_type": "stream",
     "text": [
      "apple banana melon mango "
     ]
    }
   ],
   "source": [
    "for i in a.items():\n",
    "    print(i[0], end=' ')"
   ]
  },
  {
   "cell_type": "code",
   "execution_count": 62,
   "id": "387cdb69",
   "metadata": {},
   "outputs": [
    {
     "name": "stdout",
     "output_type": "stream",
     "text": [
      "1000 2000 10000 5000 "
     ]
    }
   ],
   "source": [
    "for i in a.items():\n",
    "    print(i[1], end=' ')"
   ]
  },
  {
   "cell_type": "code",
   "execution_count": 63,
   "id": "a8e20130",
   "metadata": {},
   "outputs": [],
   "source": [
    "# 로또번호 생성기"
   ]
  },
  {
   "cell_type": "code",
   "execution_count": 110,
   "id": "6e02901f",
   "metadata": {},
   "outputs": [
    {
     "name": "stdout",
     "output_type": "stream",
     "text": [
      "1등 번호: {40, 43, 15, 16, 18, 19}\n",
      "1등 번호: {40, 43, 15, 16, 18, 19}, 보너스 번호: 7\n"
     ]
    }
   ],
   "source": [
    "import random\n",
    "lotto = set()\n",
    "for i in range(100):\n",
    "    lotto.add(random.randrange(1, 46))\n",
    "    if len(lotto) == 6:\n",
    "        # 반복문을 더 이상 실행할 필요가 없으므로 break 명령을 실행해서 반복을 중지시킨다.\n",
    "        break\n",
    "    # ==========\n",
    "# ==========\n",
    "print('1등 번호: {}'.format(lotto))\n",
    "\n",
    "for i in range(100):\n",
    "    bonus = random.randrange(1, 46)\n",
    "    if bonus not in lotto:\n",
    "        break\n",
    "    # ==========\n",
    "# ==========\n",
    "print('1등 번호: {}, 보너스 번호: {}'.format(lotto, bonus))"
   ]
  },
  {
   "cell_type": "code",
   "execution_count": 120,
   "id": "eb883d67",
   "metadata": {},
   "outputs": [],
   "source": [
    "reviewList = [\n",
    "    'This is the worst waste of time I have ever experienced. It is a terrible movie.',\n",
    "    'I so much enjoyed this movie I bought a copy to share with my friends. There is something that one of the characters says which may summarize it.',\n",
    "    'When I first saw this movie back, I did not like it. But when I watched this movie a second time, I was deeply moved. It is the best!',\n",
    "    'What is the story and what is it on the screen. I could not even make a laugh while watching this movie.'\n",
    "]"
   ]
  },
  {
   "cell_type": "code",
   "execution_count": 122,
   "id": "941519e7",
   "metadata": {},
   "outputs": [
    {
     "name": "stdout",
     "output_type": "stream",
     "text": [
      "[['this', 'is', 'the', 'worst', 'waste', 'of', 'time', 'i', 'have', 'ever', 'experienced', 'it', 'is', 'a', 'terrible', 'movie'], ['i', 'so', 'much', 'enjoyed', 'this', 'movie', 'i', 'bought', 'a', 'copy', 'to', 'share', 'with', 'my', 'friends', 'there', 'is', 'something', 'that', 'one', 'of', 'the', 'characters', 'says', 'which', 'may', 'summarize', 'it'], ['when', 'i', 'first', 'saw', 'this', 'movie', 'back', 'i', 'did', 'not', 'like', 'it', 'but', 'when', 'i', 'watched', 'this', 'movie', 'a', 'second', 'time', 'i', 'was', 'deeply', 'moved', 'it', 'is', 'the', 'best'], ['what', 'is', 'the', 'story', 'and', 'what', 'is', 'it', 'on', 'the', 'screen', 'i', 'could', 'not', 'even', 'make', 'a', 'laugh', 'while', 'watching', 'this', 'movie']]\n"
     ]
    }
   ],
   "source": [
    "for i in range(len(reviewList)):\n",
    "    reviewList[i] = reviewList[i].replace('.', '').replace(',', '').replace('!', '').lower().split()\n",
    "print(reviewList)"
   ]
  },
  {
   "cell_type": "code",
   "execution_count": 124,
   "id": "69c12b47",
   "metadata": {},
   "outputs": [
    {
     "name": "stdout",
     "output_type": "stream",
     "text": [
      "{'worst', 'ever', 'experienced', 'time', 'this', 'it', 'movie', 'of', 'waste', 'is', 'a', 'the', 'i', 'have', 'terrible'}\n",
      "[('this', 5), ('it', 5), ('movie', 5), ('is', 6), ('a', 4), ('the', 5), ('i', 8)]\n"
     ]
    }
   ],
   "source": [
    "# 4개의 리뷰에 공통된 단어 찾기\n",
    "reviews = set(reviewList[0])\n",
    "print(reviews)\n",
    "words = []\n",
    "\n",
    "for review in reviews:\n",
    "    count = 0\n",
    "    flag = True\n",
    "    for i in range(len(reviewList)):\n",
    "        if reviewList[i].count(review) > 0:\n",
    "            count += reviewList[i].count(review)\n",
    "        else:\n",
    "            flag = False\n",
    "            break\n",
    "        # =========\n",
    "    # =========\n",
    "    if flag:\n",
    "        words.append((review, count))\n",
    "print(words)"
   ]
  },
  {
   "cell_type": "code",
   "execution_count": null,
   "id": "b1a01e02",
   "metadata": {},
   "outputs": [],
   "source": []
  },
  {
   "cell_type": "code",
   "execution_count": null,
   "id": "feec8459",
   "metadata": {},
   "outputs": [],
   "source": []
  },
  {
   "cell_type": "code",
   "execution_count": null,
   "id": "95da2ddc",
   "metadata": {},
   "outputs": [],
   "source": []
  },
  {
   "cell_type": "code",
   "execution_count": null,
   "id": "f558a9d9",
   "metadata": {},
   "outputs": [],
   "source": []
  }
 ],
 "metadata": {
  "kernelspec": {
   "display_name": "Python 3 (ipykernel)",
   "language": "python",
   "name": "python3"
  },
  "language_info": {
   "codemirror_mode": {
    "name": "ipython",
    "version": 3
   },
   "file_extension": ".py",
   "mimetype": "text/x-python",
   "name": "python",
   "nbconvert_exporter": "python",
   "pygments_lexer": "ipython3",
   "version": "3.10.4"
  }
 },
 "nbformat": 4,
 "nbformat_minor": 5
}
