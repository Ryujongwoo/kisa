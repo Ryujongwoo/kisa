{
 "cells": [
  {
   "cell_type": "markdown",
   "id": "5415d17d",
   "metadata": {},
   "source": [
    "if 명령의 형식  \n",
    "if 조건식:  \n",
    "&nbsp;&nbsp;&nbsp;&nbsp;조건식이 참일 때 실행할 문장  \n",
    "&nbsp;&nbsp;&nbsp;&nbsp;...  \n",
    "else:  \n",
    "&nbsp;&nbsp;&nbsp;&nbsp;조건식이 거짓일 때 실행할 문장  \n",
    "&nbsp;&nbsp;&nbsp;&nbsp;..."
   ]
  },
  {
   "cell_type": "code",
   "execution_count": 2,
   "id": "d90f11e1",
   "metadata": {},
   "outputs": [],
   "source": [
    "# 관계 연산자 => 연산 결과는 무조건 참(True) 또는 거짓(False)이다.\n",
    "# >: 크다, 초과\n",
    "# >=: 크거나 같다, 이상\n",
    "# <: 작다, 미만\n",
    "# <=: 작거나 같다, 이하\n",
    "# ==: 같다\n",
    "# !=: 같지 않다"
   ]
  },
  {
   "cell_type": "code",
   "execution_count": 6,
   "id": "f405c3ca",
   "metadata": {},
   "outputs": [
    {
     "data": {
      "image/png": "[encoded data removed]",
      "text/plain": [
       "<IPython.core.display.Image object>"
      ]
     },
     "execution_count": 6,
     "metadata": {
      "image/png": {
       "width": 900
      }
     },
     "output_type": "execute_result"
    }
   ],
   "source": [
    "# 논리 연산자 => 연산 결과는 무조건 참(True) 또는 거짓(False)이다.\n",
    "# and: 논리곱, 두 조건이 모두 참일 경우에만 참, ~이고, ~이면서, ~중에서\n",
    "# or: 논리합, 두 조건 중에서 1개 이상 참일경우에 참, ~또는, ~이거나\n",
    "# not: 논리부정\n",
    "from IPython.display import Image\n",
    "Image('./andornot.png', width=900)"
   ]
  },
  {
   "cell_type": "code",
   "execution_count": null,
   "id": "ed84340f",
   "metadata": {},
   "outputs": [],
   "source": [
    "# 산술 연산자(() => ** => *, /, //, % => +, -) => 관계 연산자(동순위) => 논리 연산자(not => and => or)"
   ]
  },
  {
   "cell_type": "code",
   "execution_count": 12,
   "id": "23f5689e",
   "metadata": {},
   "outputs": [
    {
     "name": "stdout",
     "output_type": "stream",
     "text": [
      "나이를 입력하세요: 15\n",
      "<class 'int'>\n",
      "청소년 여러분 이제는 집으로 돌아가야 할 시간입니다.\n"
     ]
    }
   ],
   "source": [
    "age = int(input('나이를 입력하세요: '))\n",
    "print(type(age))\n",
    "if age >= 19:\n",
    "    print('성인입니다. 어서오세요')\n",
    "else:\n",
    "    print('청소년 여러분 이제는 집으로 돌아가야 할 시간입니다.')"
   ]
  },
  {
   "cell_type": "code",
   "execution_count": 26,
   "id": "c422842c",
   "metadata": {},
   "outputs": [
    {
     "name": "stdout",
     "output_type": "stream",
     "text": [
      "주민등록번호 13자리를 \"-\"없이 입력하세요: 8307227185600\n",
      "7\n",
      "여자\n",
      "여자\n",
      "여자\n",
      "남자\n"
     ]
    }
   ],
   "source": [
    "# 둘리 주민등록번호: 8304221185600\n",
    "jumin = input('주민등록번호 13자리를 \"-\"없이 입력하세요: ')\n",
    "print(jumin[6])\n",
    "\n",
    "if jumin[6] == '1' or jumin[6] == '3':\n",
    "    print('남자')\n",
    "else:\n",
    "    print('여자')\n",
    "    \n",
    "if int(jumin[6]) == 1 or int(jumin[6]) == 3:\n",
    "    print('남자')\n",
    "else:\n",
    "    print('여자')\n",
    "    \n",
    "if jumin[6] in ['1', '3']:\n",
    "    print('남자')\n",
    "else:\n",
    "    print('여자')\n",
    "    \n",
    "if int(jumin[6]) % 2 == 0:\n",
    "    print('여자')\n",
    "else:\n",
    "    print('남자')"
   ]
  },
  {
   "cell_type": "code",
   "execution_count": 39,
   "id": "b58edbf5",
   "metadata": {},
   "outputs": [
    {
     "name": "stdout",
     "output_type": "stream",
     "text": [
      "윤년, 평년을 판별할 년도를 입력하세요: 2100\n",
      "2100년은 평년입니다.\n"
     ]
    }
   ],
   "source": [
    "# 윤년, 평년 판별식\n",
    "# 년도가 4로 나눠 떨어지고 100으로 나눠 떨어지지 않거나 400으로 나눠 떨어지면 윤년, 그렇치 않으면 평년\n",
    "year = int(input('윤년, 평년을 판별할 년도를 입력하세요: '))\n",
    "if year % 4 == 0 and year % 100 != 0 or year % 400 == 0:\n",
    "    print('{}년은 윤년입니다.'.format(year))\n",
    "else:\n",
    "    print('{}년은 평년입니다.'.format(year))"
   ]
  },
  {
   "cell_type": "code",
   "execution_count": 40,
   "id": "68e85c07",
   "metadata": {},
   "outputs": [
    {
     "name": "stdout",
     "output_type": "stream",
     "text": [
      "2100년은 평년입니다.\n"
     ]
    }
   ],
   "source": [
    "# 삼항 연산자\n",
    "# C언어, java => 조건식 ? 참 : 거짓\n",
    "# python => 참 if 조건식 else 거짓\n",
    "print('{}년은 {}년입니다.'.format(year, '윤' if year % 4 == 0 and year % 100 != 0 or year % 400 == 0 else '평'))"
   ]
  },
  {
   "cell_type": "code",
   "execution_count": null,
   "id": "7cbefdf1",
   "metadata": {},
   "outputs": [],
   "source": []
  },
  {
   "cell_type": "code",
   "execution_count": null,
   "id": "f4430a6c",
   "metadata": {},
   "outputs": [],
   "source": []
  },
  {
   "cell_type": "code",
   "execution_count": null,
   "id": "a254dc2c",
   "metadata": {},
   "outputs": [],
   "source": []
  },
  {
   "cell_type": "code",
   "execution_count": null,
   "id": "b712070f",
   "metadata": {},
   "outputs": [],
   "source": []
  }
 ],
 "metadata": {
  "kernelspec": {
   "display_name": "Python 3 (ipykernel)",
   "language": "python",
   "name": "python3"
  },
  "language_info": {
   "codemirror_mode": {
    "name": "ipython",
    "version": 3
   },
   "file_extension": ".py",
   "mimetype": "text/x-python",
   "name": "python",
   "nbconvert_exporter": "python",
   "pygments_lexer": "ipython3",
   "version": "3.10.4"
  }
 },
 "nbformat": 4,
 "nbformat_minor": 5
}
