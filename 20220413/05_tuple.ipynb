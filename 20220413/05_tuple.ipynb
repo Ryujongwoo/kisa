{
 "cells": [
  {
   "cell_type": "code",
   "execution_count": 1,
   "id": "ef9b3bce",
   "metadata": {},
   "outputs": [],
   "source": [
    "# 튜플 만들기\n",
    "# 튜플은 리스트와 비슷하지만 리스트는 데이터를 []로 감싸주고 튜플 ()로 감싸준다는 것과 리스트는 데이터의\n",
    "# 수정, 삭제가 가능하지만 튜플은 수정, 삭제가 불가능하다."
   ]
  },
  {
   "cell_type": "code",
   "execution_count": 5,
   "id": "b689c3a9",
   "metadata": {},
   "outputs": [
    {
     "name": "stdout",
     "output_type": "stream",
     "text": [
      "[1, 2, 3]\n",
      "[4, 2, 3]\n",
      "[2, 3]\n"
     ]
    }
   ],
   "source": [
    "a = [1, 2, 3]\n",
    "print(a)\n",
    "a[0] = 4\n",
    "print(a)\n",
    "del a[0]\n",
    "print(a)"
   ]
  },
  {
   "cell_type": "code",
   "execution_count": 9,
   "id": "8808a6bd",
   "metadata": {},
   "outputs": [
    {
     "name": "stdout",
     "output_type": "stream",
     "text": [
      "()\n",
      "<class 'tuple'>\n",
      "()\n",
      "<class 'tuple'>\n"
     ]
    }
   ],
   "source": [
    "# 빈 튜플 만들기\n",
    "a = ()\n",
    "print(a)\n",
    "print(type(a))\n",
    "# 빈 튜플은 생성자 함수를 이용해서도 만들 수 있다.\n",
    "b = tuple()\n",
    "print(b)\n",
    "print(type(b))"
   ]
  },
  {
   "cell_type": "code",
   "execution_count": 17,
   "id": "cadc8fc1",
   "metadata": {},
   "outputs": [
    {
     "name": "stdout",
     "output_type": "stream",
     "text": [
      "[1]\n",
      "[1]\n",
      "1\n",
      "(1,)\n",
      "<class 'tuple'>\n"
     ]
    }
   ],
   "source": [
    "# 데이터가 1개인 튜플 만들기\n",
    "a = [1]\n",
    "print(a)\n",
    "b = list([1])\n",
    "print(b)\n",
    "c = (1) # ()만 사용하면 일반적인 연산삭에 사용하는 ()로 인식한다.\n",
    "print(c)\n",
    "d = (1,)\n",
    "print(d)\n",
    "print(type(d))"
   ]
  },
  {
   "cell_type": "code",
   "execution_count": 23,
   "id": "77ca43d0",
   "metadata": {},
   "outputs": [
    {
     "name": "stdout",
     "output_type": "stream",
     "text": [
      "(1, 2)\n",
      "('a', 'b', 'c')\n",
      "(1, 2, 3, 'a', 'b')\n",
      "(1, 2, 3, ('a', 'b'))\n",
      "(1, 2, 3, ['a', 'b'])\n",
      "[1, 2, 3, ('a', 'b')]\n"
     ]
    }
   ],
   "source": [
    "a = (1, 2)\n",
    "print(a)\n",
    "b = ('a', 'b', 'c')\n",
    "print(b)\n",
    "c = (1, 2, 3, 'a', 'b')\n",
    "print(c)\n",
    "d = (1, 2, 3, ('a', 'b'))\n",
    "print(d)\n",
    "e = (1, 2, 3, ['a', 'b'])\n",
    "print(e)\n",
    "f = [1, 2, 3, ('a', 'b')]\n",
    "print(f)"
   ]
  },
  {
   "cell_type": "code",
   "execution_count": 32,
   "id": "bb3508b6",
   "metadata": {},
   "outputs": [
    {
     "name": "stdout",
     "output_type": "stream",
     "text": [
      "(1, 2, 3, 4, 5, 6, 7)\n",
      "<class 'tuple'>\n",
      "2\n",
      "7\n",
      "(2, 3, 4, 5, 6)\n",
      "(1, 2, 3, 4, 5, 6)\n",
      "(1, 2, 3, 1, 2, 3, 1, 2, 3)\n"
     ]
    }
   ],
   "source": [
    "# 튜플은 ()를 생략하더라도 변수에 데이터를 ','로 구분해서 여러개를 넣으면 자동으로 튜플로 인식한다.\n",
    "a = 1, 2, 3, 4, 5, 6, 7\n",
    "print(a)\n",
    "print(type(a))\n",
    "# 튜플은 리스트처럼 인덱싱, 슬라이싱이 가능하다.\n",
    "print(a[1])\n",
    "print(a[-1])\n",
    "print(a[1:6])\n",
    "# '+', '*' 연산이 가능하다.\n",
    "print((1, 2, 3) + (4, 5, 6))\n",
    "print((1, 2, 3) * 3)"
   ]
  },
  {
   "cell_type": "code",
   "execution_count": 34,
   "id": "246da90c",
   "metadata": {},
   "outputs": [
    {
     "name": "stdout",
     "output_type": "stream",
     "text": [
      "(1, 2, 3)\n"
     ]
    },
    {
     "ename": "TypeError",
     "evalue": "'tuple' object does not support item assignment",
     "output_type": "error",
     "traceback": [
      "\u001b[1;31m---------------------------------------------------------------------------\u001b[0m",
      "\u001b[1;31mTypeError\u001b[0m                                 Traceback (most recent call last)",
      "Input \u001b[1;32mIn [34]\u001b[0m, in \u001b[0;36m<cell line: 3>\u001b[1;34m()\u001b[0m\n\u001b[0;32m      1\u001b[0m a \u001b[38;5;241m=\u001b[39m \u001b[38;5;241m1\u001b[39m, \u001b[38;5;241m2\u001b[39m, \u001b[38;5;241m3\u001b[39m\n\u001b[0;32m      2\u001b[0m \u001b[38;5;28mprint\u001b[39m(a)\n\u001b[1;32m----> 3\u001b[0m a[\u001b[38;5;241m0\u001b[39m] \u001b[38;5;241m=\u001b[39m \u001b[38;5;241m1000\u001b[39m\n",
      "\u001b[1;31mTypeError\u001b[0m: 'tuple' object does not support item assignment"
     ]
    }
   ],
   "source": [
    "a = 1, 2, 3\n",
    "print(a)\n",
    "a[0] = 1000 # 요소 수정 불가"
   ]
  },
  {
   "cell_type": "code",
   "execution_count": 35,
   "id": "d02a3895",
   "metadata": {},
   "outputs": [
    {
     "name": "stdout",
     "output_type": "stream",
     "text": [
      "(1, 2, 3)\n"
     ]
    },
    {
     "ename": "TypeError",
     "evalue": "'tuple' object doesn't support item deletion",
     "output_type": "error",
     "traceback": [
      "\u001b[1;31m---------------------------------------------------------------------------\u001b[0m",
      "\u001b[1;31mTypeError\u001b[0m                                 Traceback (most recent call last)",
      "Input \u001b[1;32mIn [35]\u001b[0m, in \u001b[0;36m<cell line: 3>\u001b[1;34m()\u001b[0m\n\u001b[0;32m      1\u001b[0m a \u001b[38;5;241m=\u001b[39m \u001b[38;5;241m1\u001b[39m, \u001b[38;5;241m2\u001b[39m, \u001b[38;5;241m3\u001b[39m\n\u001b[0;32m      2\u001b[0m \u001b[38;5;28mprint\u001b[39m(a)\n\u001b[1;32m----> 3\u001b[0m \u001b[38;5;28;01mdel\u001b[39;00m a[\u001b[38;5;241m0\u001b[39m]\n",
      "\u001b[1;31mTypeError\u001b[0m: 'tuple' object doesn't support item deletion"
     ]
    }
   ],
   "source": [
    "a = 1, 2, 3\n",
    "print(a)\n",
    "del a[0] # 요소 삭제 불가"
   ]
  },
  {
   "cell_type": "code",
   "execution_count": 40,
   "id": "037adec4",
   "metadata": {},
   "outputs": [],
   "source": [
    "del a"
   ]
  },
  {
   "cell_type": "code",
   "execution_count": 45,
   "id": "ba1c06b7",
   "metadata": {},
   "outputs": [
    {
     "name": "stdout",
     "output_type": "stream",
     "text": [
      "a: 3, b: 4\n",
      "a: 4, b: 3\n",
      "a: 3, b: 4\n",
      "a: 4, b: 3\n",
      "a: 3, b: 4\n"
     ]
    }
   ],
   "source": [
    "a = 3; b = 4\n",
    "print('a: {}, b: {}'.format(a, b))\n",
    "# a와 b에 저장된 값을 교환한다.\n",
    "# python, c, java 모두 사용가능\n",
    "temp = a\n",
    "a = b\n",
    "b = temp\n",
    "print('a: {}, b: {}'.format(a, b))\n",
    "[a, b] = [b, a]\n",
    "print('a: {}, b: {}'.format(a, b))\n",
    "(a, b) = (b, a)\n",
    "print('a: {}, b: {}'.format(a, b))\n",
    "a, b = b, a\n",
    "print('a: {}, b: {}'.format(a, b))"
   ]
  },
  {
   "cell_type": "code",
   "execution_count": null,
   "id": "41ef35a1",
   "metadata": {},
   "outputs": [],
   "source": []
  },
  {
   "cell_type": "code",
   "execution_count": null,
   "id": "613635bc",
   "metadata": {},
   "outputs": [],
   "source": []
  },
  {
   "cell_type": "code",
   "execution_count": null,
   "id": "0060ddeb",
   "metadata": {},
   "outputs": [],
   "source": []
  },
  {
   "cell_type": "code",
   "execution_count": null,
   "id": "bbb3b727",
   "metadata": {},
   "outputs": [],
   "source": []
  },
  {
   "cell_type": "code",
   "execution_count": null,
   "id": "5e05e9f0",
   "metadata": {},
   "outputs": [],
   "source": []
  },
  {
   "cell_type": "code",
   "execution_count": null,
   "id": "0f098c4b",
   "metadata": {},
   "outputs": [],
   "source": []
  },
  {
   "cell_type": "code",
   "execution_count": null,
   "id": "a43d9e8f",
   "metadata": {},
   "outputs": [],
   "source": []
  }
 ],
 "metadata": {
  "kernelspec": {
   "display_name": "Python 3 (ipykernel)",
   "language": "python",
   "name": "python3"
  },
  "language_info": {
   "codemirror_mode": {
    "name": "ipython",
    "version": 3
   },
   "file_extension": ".py",
   "mimetype": "text/x-python",
   "name": "python",
   "nbconvert_exporter": "python",
   "pygments_lexer": "ipython3",
   "version": "3.10.4"
  }
 },
 "nbformat": 4,
 "nbformat_minor": 5
}
