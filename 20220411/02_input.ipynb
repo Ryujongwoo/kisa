{
 "cells": [
  {
   "cell_type": "code",
   "execution_count": 9,
   "id": "86817887",
   "metadata": {},
   "outputs": [
    {
     "name": "stdout",
     "output_type": "stream",
     "text": [
      "<class 'int'>\n",
      "<class 'float'>\n",
      "<class 'str'>\n",
      "<class 'bool'>\n"
     ]
    }
   ],
   "source": [
    "# 변수는 처리할 데이터를 기억하는 기억장소를 의미한다.\n",
    "# 영문자, 숫자, 특수문자(_)만 사용할 수 있으며, 첫 문자는 반드시 문자로 시작해야 한다. 단, 예약어는 사용할 수 없다.\n",
    "# 파이썬 변수의 자료형은 입력되는 데이터의 타입에 따라 자동을 결정된다.\n",
    "# '='는 같다라는 의미로 사용되는 것이 아니고 '=' 오른쪽의 데이터를 '=' 왼쪽의 기억장소에 저장시켜라 => 대입문, 할당문, 배정문\n",
    "a = 100\n",
    "print(type(a))\n",
    "a = 3.14\n",
    "print(type(a))\n",
    "a = '100'\n",
    "print(type(a))\n",
    "a = True\n",
    "print(type(a))"
   ]
  },
  {
   "cell_type": "code",
   "execution_count": 11,
   "id": "dfc9934f",
   "metadata": {},
   "outputs": [
    {
     "name": "stdout",
     "output_type": "stream",
     "text": [
      "True\n"
     ]
    },
    {
     "ename": "NameError",
     "evalue": "name 'a' is not defined",
     "output_type": "error",
     "traceback": [
      "\u001b[1;31m---------------------------------------------------------------------------\u001b[0m",
      "\u001b[1;31mNameError\u001b[0m                                 Traceback (most recent call last)",
      "Input \u001b[1;32mIn [11]\u001b[0m, in \u001b[0;36m<cell line: 3>\u001b[1;34m()\u001b[0m\n\u001b[0;32m      1\u001b[0m \u001b[38;5;28mprint\u001b[39m(a)\n\u001b[0;32m      2\u001b[0m \u001b[38;5;28;01mdel\u001b[39;00m a\n\u001b[1;32m----> 3\u001b[0m \u001b[38;5;28mprint\u001b[39m(\u001b[43ma\u001b[49m)\n",
      "\u001b[1;31mNameError\u001b[0m: name 'a' is not defined"
     ]
    }
   ],
   "source": [
    "print(a)\n",
    "del a\n",
    "print(a)"
   ]
  },
  {
   "cell_type": "code",
   "execution_count": 12,
   "id": "e6172130",
   "metadata": {},
   "outputs": [],
   "source": [
    "# 전자계산기조직응용기사"
   ]
  },
  {
   "cell_type": "code",
   "execution_count": null,
   "id": "9114ff69",
   "metadata": {},
   "outputs": [],
   "source": [
    "# 변수 = input('메시지') # input 함수는 무조건 문자열로 입력받는다."
   ]
  },
  {
   "cell_type": "code",
   "execution_count": 3,
   "id": "f2bd3f9f",
   "metadata": {},
   "outputs": [
    {
     "name": "stdout",
     "output_type": "stream",
     "text": [
      "나이를 입력하세요: 10\n",
      "<class 'int'>\n"
     ]
    }
   ],
   "source": [
    "# input() 함수로 입력받은 데이터가 숫자일 경우 정수는 int() 함수를 실수는 float() 함수를 사용해서 숫자로 변경시켜야 한다.\n",
    "age = int(input('나이를 입력하세요: '))\n",
    "print(type(age))"
   ]
  },
  {
   "cell_type": "code",
   "execution_count": 6,
   "id": "08512bc2",
   "metadata": {},
   "outputs": [
    {
     "name": "stdout",
     "output_type": "stream",
     "text": [
      "몸무게를 입력하세요: 56.1\n",
      "<class 'float'>\n"
     ]
    }
   ],
   "source": [
    "kg = float(input('몸무게를 입력하세요: '))\n",
    "print(type(kg))"
   ]
  },
  {
   "cell_type": "code",
   "execution_count": 9,
   "id": "e9dd9c09",
   "metadata": {},
   "outputs": [
    {
     "name": "stdout",
     "output_type": "stream",
     "text": [
      "이름을 입력하세요: 홍길동 임꺽정 장길산\n",
      "a: 홍길동, b: 임꺽정, c: 장길산\n"
     ]
    }
   ],
   "source": [
    "# 한개의 input() 함수로 여러개의 데이터를 받으려면 split() 함수로 데이터를 구분하면 된다.\n",
    "a, b, c = input('이름을 입력하세요: ').split()\n",
    "print('a: ' + a + ', b: ' + b + ', c: ' + c)"
   ]
  },
  {
   "cell_type": "code",
   "execution_count": 12,
   "id": "3efb3daa",
   "metadata": {},
   "outputs": [
    {
     "name": "stdout",
     "output_type": "stream",
     "text": [
      "3과목 점수를 입력하세요: 100 55 75\n",
      "230\n"
     ]
    }
   ],
   "source": [
    "python, c, java = input('3과목 점수를 입력하세요: ').split()\n",
    "print(int(python) + int(c) + int(java))"
   ]
  },
  {
   "cell_type": "code",
   "execution_count": 13,
   "id": "33f248af",
   "metadata": {},
   "outputs": [
    {
     "name": "stdout",
     "output_type": "stream",
     "text": [
      "3과목 점수를 입력하세요: 100 55 75\n",
      "230\n"
     ]
    }
   ],
   "source": [
    "# map(자료형, input() 함수) 함수를 이용하면 여러개의 숫자 데이터를 한번에 입력받을 수 있다.\n",
    "python, c, java = map(int, input('3과목 점수를 입력하세요: ').split())\n",
    "print(python + c + java)"
   ]
  },
  {
   "cell_type": "code",
   "execution_count": 14,
   "id": "4abc6ad8",
   "metadata": {},
   "outputs": [
    {
     "name": "stdout",
     "output_type": "stream",
     "text": [
      "이름을 입력하세요: 홍길동 임꺽정 장길산\n",
      "<class 'list'>\n"
     ]
    }
   ],
   "source": [
    "print(type(input('이름을 입력하세요: ').split()))"
   ]
  },
  {
   "cell_type": "code",
   "execution_count": null,
   "id": "a0a86029",
   "metadata": {},
   "outputs": [],
   "source": []
  },
  {
   "cell_type": "code",
   "execution_count": null,
   "id": "0e3894d6",
   "metadata": {},
   "outputs": [],
   "source": []
  },
  {
   "cell_type": "code",
   "execution_count": null,
   "id": "979b3792",
   "metadata": {},
   "outputs": [],
   "source": []
  }
 ],
 "metadata": {
  "kernelspec": {
   "display_name": "Python 3 (ipykernel)",
   "language": "python",
   "name": "python3"
  },
  "language_info": {
   "codemirror_mode": {
    "name": "ipython",
    "version": 3
   },
   "file_extension": ".py",
   "mimetype": "text/x-python",
   "name": "python",
   "nbconvert_exporter": "python",
   "pygments_lexer": "ipython3",
   "version": "3.10.4"
  }
 },
 "nbformat": 4,
 "nbformat_minor": 5
}
