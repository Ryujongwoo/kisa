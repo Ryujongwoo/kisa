{
 "cells": [
  {
   "cell_type": "code",
   "execution_count": 1,
   "id": "0d884e44",
   "metadata": {},
   "outputs": [],
   "source": [
    "# 문자열은 큰따옴표나 작은따옴표를 구분없이 사용할 수 있다.\n",
    "# C언어나 JAVA는 문자는 작은따옴표를 사용하고 문자열은 큰따옴표를 사용한다."
   ]
  },
  {
   "cell_type": "code",
   "execution_count": 2,
   "id": "9a68ebe1",
   "metadata": {},
   "outputs": [
    {
     "name": "stdout",
     "output_type": "stream",
     "text": [
      "Hello Python\n",
      "안녕 파이썬\n",
      "제2외국어를 배운 호랑이가 \"야옹\" 했습니다.\n",
      "제2외국어를 배운 고양이가 '어흥' 했습니다.\n",
      "제2외국어를 배운 호랑이가 '야옹' 했습니다.\n",
      "제2외국어를 배운 고양이가 \"어흥\" 했습니다.\n"
     ]
    }
   ],
   "source": [
    "print('Hello Python')\n",
    "print(\"안녕 파이썬\")\n",
    "print('제2외국어를 배운 호랑이가 \"야옹\" 했습니다.')\n",
    "print(\"제2외국어를 배운 고양이가 '어흥' 했습니다.\")\n",
    "print('제2외국어를 배운 호랑이가 \\'야옹\\' 했습니다.')\n",
    "print(\"제2외국어를 배운 고양이가 \\\"어흥\\\" 했습니다.\");"
   ]
  },
  {
   "cell_type": "code",
   "execution_count": 3,
   "id": "4e8b9cea",
   "metadata": {},
   "outputs": [
    {
     "name": "stdout",
     "output_type": "stream",
     "text": [
      "Hello\n",
      "Python\n"
     ]
    }
   ],
   "source": [
    "print('Hello\\nPython') # \\n => new line => 줄을 바꾼다."
   ]
  },
  {
   "cell_type": "code",
   "execution_count": 4,
   "id": "ac6a8630",
   "metadata": {},
   "outputs": [
    {
     "name": "stdout",
     "output_type": "stream",
     "text": [
      "개울가에\n",
      "올챙이 한마리\n",
      "꼬물꼬물 헤엄치다.\n"
     ]
    }
   ],
   "source": [
    "print(\"\"\"개울가에\n",
    "올챙이 한마리\n",
    "꼬물꼬물 헤엄치다.\"\"\")"
   ]
  },
  {
   "cell_type": "code",
   "execution_count": 5,
   "id": "3f46c327",
   "metadata": {},
   "outputs": [
    {
     "name": "stdout",
     "output_type": "stream",
     "text": [
      "개울가에\n",
      "올챙이 한마리\n",
      "꼬물꼬물 헤엄치다.\n"
     ]
    }
   ],
   "source": [
    "print('''개울가에\n",
    "올챙이 한마리\n",
    "꼬물꼬물 헤엄치다.''')"
   ]
  },
  {
   "cell_type": "code",
   "execution_count": 6,
   "id": "4853c765",
   "metadata": {},
   "outputs": [
    {
     "name": "stdout",
     "output_type": "stream",
     "text": [
      "A\n",
      "B\n",
      "C\n",
      "D\n"
     ]
    }
   ],
   "source": [
    "# C언어와 JAVA는 문장의 끝을 \";\"을 찍어서 나타낸다.\n",
    "# 파이썬은 1줄에 1문장 코딩을 원칙으로 한다. => 파이썬에서 \";\"을 사용하면 1줄에 여러 문장을 코딩할 수 있다.\n",
    "# => 문장과 문장을 구분하는 역할을 한다.\n",
    "print('A')\n",
    "print('B')\n",
    "print('C');print('D')"
   ]
  },
  {
   "cell_type": "code",
   "execution_count": 7,
   "id": "4a99f269",
   "metadata": {},
   "outputs": [
    {
     "name": "stdout",
     "output_type": "stream",
     "text": [
      "A\n",
      "B\n"
     ]
    }
   ],
   "source": [
    "print('A', end='\\n') # end 옵션은 print로 출력한 후 맨 끝에 출력할 문자를 지정한다. 생략시 end='\\n'이 기본값으로 사용된다.\n",
    "print('B')"
   ]
  },
  {
   "cell_type": "code",
   "execution_count": 8,
   "id": "8fd33149",
   "metadata": {},
   "outputs": [
    {
     "name": "stdout",
     "output_type": "stream",
     "text": [
      "AB\n"
     ]
    }
   ],
   "source": [
    "print('A', end='')\n",
    "print('B')"
   ]
  },
  {
   "cell_type": "code",
   "execution_count": 9,
   "id": "4b868c3c",
   "metadata": {},
   "outputs": [
    {
     "name": "stdout",
     "output_type": "stream",
     "text": [
      "A B\n"
     ]
    }
   ],
   "source": [
    "print('A', 'B', sep=' ') # sep 옵션은 print로 여러 내용을 출력할 때 구분자를 지정한다. 생략시 sep=' '이 기본값으로 사용된다."
   ]
  },
  {
   "cell_type": "code",
   "execution_count": 10,
   "id": "b6d6696e",
   "metadata": {},
   "outputs": [
    {
     "name": "stdout",
     "output_type": "stream",
     "text": [
      "A, B\n"
     ]
    }
   ],
   "source": [
    "print('A', 'B', sep=', ')"
   ]
  },
  {
   "cell_type": "code",
   "execution_count": 11,
   "id": "fa8b890f",
   "metadata": {},
   "outputs": [
    {
     "name": "stdout",
     "output_type": "stream",
     "text": [
      "A~(^^~)B\n"
     ]
    }
   ],
   "source": [
    "print('A', 'B', sep='~(^^~)')"
   ]
  },
  {
   "cell_type": "code",
   "execution_count": 12,
   "id": "92392645",
   "metadata": {},
   "outputs": [],
   "source": [
    "# 서식을 사용한 출력\n",
    "# print('출력서식' % (출력할 데이터))\n",
    "# 서식 문자: d(정수), f(실수), s(문자열)\n",
    "# 출력서식의 형식: %[-][0][n][.m]서식문자\n",
    "# n: 출력할 전체 자리수\n",
    "# -: 출력할 전체 자리수가 지정된 경우 왼쪽으로 맞춰 출력한다.\n",
    "# 0: 출력할 전체 자리수가 지정된 경우 왼쪽의 남는 자리에 '0'을 채워 출력한다.\n",
    "# .m: 소수점 아래 자리수"
   ]
  },
  {
   "cell_type": "code",
   "execution_count": 13,
   "id": "8e729d4d",
   "metadata": {},
   "outputs": [
    {
     "name": "stdout",
     "output_type": "stream",
     "text": [
      "100\n",
      "1\n",
      "10000\n"
     ]
    }
   ],
   "source": [
    "print(100)\n",
    "print(1)\n",
    "print(10000)"
   ]
  },
  {
   "cell_type": "code",
   "execution_count": 14,
   "id": "0732e43b",
   "metadata": {},
   "outputs": [
    {
     "name": "stdout",
     "output_type": "stream",
     "text": [
      "  100\n",
      "    1\n",
      "1    \n",
      "00001\n",
      "10000\n"
     ]
    }
   ],
   "source": [
    "print('%5d' % (100))\n",
    "print('%5d' % (1))\n",
    "print('%-5d' % (1))\n",
    "print('%05d' % (1))\n",
    "print('%5d' % (10000))"
   ]
  },
  {
   "cell_type": "code",
   "execution_count": 15,
   "id": "50e4444a",
   "metadata": {},
   "outputs": [
    {
     "name": "stdout",
     "output_type": "stream",
     "text": [
      "abc\n",
      "a\n",
      "abcde\n"
     ]
    }
   ],
   "source": [
    "print('%s' % ('abc'))\n",
    "print('%s' % ('a'))\n",
    "print('%s' % ('abcde'))"
   ]
  },
  {
   "cell_type": "code",
   "execution_count": 16,
   "id": "b7543f0f",
   "metadata": {},
   "outputs": [
    {
     "name": "stdout",
     "output_type": "stream",
     "text": [
      "  abc\n",
      "    a\n",
      "a    \n",
      "    a\n",
      "abcde\n"
     ]
    }
   ],
   "source": [
    "print('%5s' % ('abc'))\n",
    "print('%5s' % ('a'))\n",
    "print('%-5s' % ('a'))\n",
    "print('%05s' % ('a')) # C언어: 0000a, JAVA: 에러, python: 무시\n",
    "print('%5s' % ('abcde'))"
   ]
  },
  {
   "cell_type": "code",
   "execution_count": 22,
   "id": "66d17ece",
   "metadata": {},
   "outputs": [
    {
     "name": "stdout",
     "output_type": "stream",
     "text": [
      "100.00\n",
      " 95.12\n",
      " 95.12\n",
      " 95.13\n"
     ]
    }
   ],
   "source": [
    "print('%6.2f' % (100.00))\n",
    "print('%6.2f' % (95.12))\n",
    "print('%6.2f' % (95.124))\n",
    "print('%6.2f' % (95.126))"
   ]
  },
  {
   "cell_type": "code",
   "execution_count": 35,
   "id": "fcba15cc",
   "metadata": {},
   "outputs": [
    {
     "name": "stdout",
     "output_type": "stream",
     "text": [
      "5 + 3 = 8\n",
      "5 - 3 = 2\n",
      "5 * 3 = 15\n",
      "5 / 3 = 1\n",
      "5 / 3 = 1.666667\n",
      "5 // 3 = 1\n",
      "5 // 3 = 1.000000\n",
      "5 % 3 = 2\n",
      "2의 10승 = 1024\n",
      "루트 2의 = 1.414214\n"
     ]
    }
   ],
   "source": [
    "# 5 + 3 = 8\n",
    "# 출력 서식을 제외한 나머지 문자는 입력한 그대로 출력된다.\n",
    "print('%d + %d = %d' % (5, 3, 5 + 3))\n",
    "print('%d - %d = %d' % (5, 3, 5 - 3))\n",
    "print('%d * %d = %d' % (5, 3, 5 * 3))\n",
    "# C언어와 JAVA 정수와 정수의 연산은 결과도 정수이다.\n",
    "print('%d / %d = %d' % (5, 3, 5 / 3)) # / => 일반 나눗셈\n",
    "print('%d / %d = %f' % (5, 3, 5 / 3))\n",
    "print('%d // %d = %d' % (5, 3, 5 // 3)) # // => 정수 나눗셈\n",
    "print('%d // %d = %f' % (5, 3, 5 // 3))\n",
    "print('%d %% %d = %d' % (5, 3, 5 % 3)) # 나머지, 출력 서식에 '%' 문자 자체를 출력하려면 '%%'로 써야한다.\n",
    "print('%d의 %d승 = %d' % (2, 10, 2 ** 10))\n",
    "print('루트 %d의 = %f' % (2, 2 ** 0.5))\n",
    "# 산술연산자 우선순위: () => ** => *, /, //, % => +, -"
   ]
  },
  {
   "cell_type": "code",
   "execution_count": 40,
   "id": "e9b4c064",
   "metadata": {},
   "outputs": [
    {
     "name": "stdout",
     "output_type": "stream",
     "text": [
      "8\n",
      "35\n"
     ]
    }
   ],
   "source": [
    "# 문자열 연결 연산자: +\n",
    "# '+'는 양쪽 모두 숫자면 덧셈이 실행되고 양쪽 모두 문자열이면 문자열을 연결한다.\n",
    "#  한쪽은 숫자 한쪽은 문자열이면 에러가 발생된다.\n",
    "print(3 + 5) # 덧셈\n",
    "print('3' + '5') # 문자열 연결\n",
    "# print('3' + 5) # 에러\n",
    "# print(3 + '5') # 에러\n",
    "# JAVA는 양쪽 모두 숫자면 덧셈을 하고 한쪽이라도 문자열이 있으면 문자열을 연결한다."
   ]
  },
  {
   "cell_type": "code",
   "execution_count": 44,
   "id": "2970d807",
   "metadata": {},
   "outputs": [
    {
     "name": "stdout",
     "output_type": "stream",
     "text": [
      "3 + 5 = 8\n",
      "3 + 5 = \n"
     ]
    }
   ],
   "source": [
    "print('{} + {} = {}'.format(3, 5, 3 + 5))\n",
    "print('{} + {} = '.format(3, 5, 3 + 5))\n",
    "# print('{} + {} = {} {}'.format(3, 5, 3 + 5)) # 에러"
   ]
  },
  {
   "cell_type": "code",
   "execution_count": 47,
   "id": "24d05579",
   "metadata": {},
   "outputs": [
    {
     "name": "stdout",
     "output_type": "stream",
     "text": [
      "홍길동 바보 홍길동\n"
     ]
    }
   ],
   "source": [
    "print('{0} {1} {0}'.format('홍길동', '바보'))"
   ]
  },
  {
   "cell_type": "code",
   "execution_count": 51,
   "id": "77024c24",
   "metadata": {},
   "outputs": [
    {
     "name": "stdout",
     "output_type": "stream",
     "text": [
      "홍길동       \n",
      "홍길동       \n",
      "       홍길동\n",
      "   홍길동    \n"
     ]
    }
   ],
   "source": [
    "print('{0:10s}'.format('홍길동'))\n",
    "print('{0:<10s}'.format('홍길동'))\n",
    "print('{0:>10s}'.format('홍길동'))\n",
    "print('{0:^10s}'.format('홍길동'))"
   ]
  },
  {
   "cell_type": "code",
   "execution_count": 55,
   "id": "ebbccee3",
   "metadata": {},
   "outputs": [
    {
     "name": "stdout",
     "output_type": "stream",
     "text": [
      "홍길동_______\n",
      "#######홍길동\n",
      "&&&홍길동&&&&\n"
     ]
    }
   ],
   "source": [
    "print('{0:_<10s}'.format('홍길동'))\n",
    "print('{0:#>10s}'.format('홍길동'))\n",
    "print('{0:&^10s}'.format('홍길동'))"
   ]
  },
  {
   "cell_type": "code",
   "execution_count": null,
   "id": "6eecb19d",
   "metadata": {},
   "outputs": [],
   "source": []
  },
  {
   "cell_type": "code",
   "execution_count": null,
   "id": "0777273c",
   "metadata": {},
   "outputs": [],
   "source": []
  }
 ],
 "metadata": {
  "kernelspec": {
   "display_name": "Python 3 (ipykernel)",
   "language": "python",
   "name": "python3"
  },
  "language_info": {
   "codemirror_mode": {
    "name": "ipython",
    "version": 3
   },
   "file_extension": ".py",
   "mimetype": "text/x-python",
   "name": "python",
   "nbconvert_exporter": "python",
   "pygments_lexer": "ipython3",
   "version": "3.10.4"
  }
 },
 "nbformat": 4,
 "nbformat_minor": 5
}
